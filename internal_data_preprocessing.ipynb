{
 "cells": [
  {
   "cell_type": "markdown",
   "metadata": {},
   "source": [
    "# IMPORT LIBRARAY"
   ]
  },
  {
   "cell_type": "code",
   "execution_count": 7,
   "metadata": {},
   "outputs": [],
   "source": [
    "import pandas as pd\n",
    "from tqdm import tqdm"
   ]
  },
  {
   "cell_type": "code",
   "execution_count": 34,
   "metadata": {},
   "outputs": [],
   "source": [
    "raw_train = pd.read_csv('../train_data/train.csv')\n",
    "raw_test = pd.read_csv('../train_data/test.csv')\n",
    "raw_test = raw_test.fillna('WT')"
   ]
  },
  {
   "cell_type": "code",
   "execution_count": 35,
   "metadata": {},
   "outputs": [],
   "source": [
    "train = raw_train.copy()\n"
   ]
  },
  {
   "cell_type": "code",
   "execution_count": 36,
   "metadata": {},
   "outputs": [],
   "source": [
    "test = raw_test.copy()"
   ]
  },
  {
   "cell_type": "markdown",
   "metadata": {},
   "source": [
    "# 데이터 전처리"
   ]
  },
  {
   "cell_type": "markdown",
   "metadata": {},
   "source": [
    "## 1. 중복 제거 (ex. R123A R123A -> R123A)"
   ]
  },
  {
   "cell_type": "code",
   "execution_count": 37,
   "metadata": {},
   "outputs": [
    {
     "name": "stderr",
     "output_type": "stream",
     "text": [
      "100%|██████████| 6201/6201 [00:21<00:00, 293.27it/s]\n"
     ]
    }
   ],
   "source": [
    "dup_value = []\n",
    "for row_idx, row in enumerate(tqdm(train[train.columns[2:]].values)):  # ID, CLASS 제외 \n",
    "    for col_idx, value in enumerate(row):\n",
    "        if \" \" in value:\n",
    "            temp_list = value.split()\n",
    "            \n",
    "            for x in temp_list:\n",
    "                temp_check = temp_list.copy()\n",
    "                temp_check.remove(x)\n",
    "                if x in temp_check:\n",
    "                    dup_value.append(f\"{row_idx}, {col_idx+2}\")\n",
    "                    break\n",
    "            temp_list = list(set(temp_list))\n",
    "            train.iloc[row_idx, col_idx+2] = \" \".join(temp_list)"
   ]
  },
  {
   "cell_type": "code",
   "execution_count": 38,
   "metadata": {},
   "outputs": [
    {
     "name": "stderr",
     "output_type": "stream",
     "text": [
      "100%|██████████| 2546/2546 [00:14<00:00, 174.91it/s]\n"
     ]
    }
   ],
   "source": [
    "# test.iloc[인댁스, 칼럼]\n",
    "t_dup_value = []\n",
    "for row_idx, row in enumerate(tqdm(test[test.columns[1:]].values)):  # ID, CLASS 제외 \n",
    "    for col_idx, value in enumerate(row):\n",
    "        if \" \" in value:\n",
    "            temp_list = value.split()\n",
    "            \n",
    "            for x in temp_list:\n",
    "                temp_check = temp_list.copy()\n",
    "                temp_check.remove(x)\n",
    "                if x in temp_check:\n",
    "                    dup_value.append(f\"{row_idx}, {col_idx+1}\")\n",
    "                    break\n",
    "            temp_list = list(set(temp_list))\n",
    "            test.iloc[row_idx, col_idx+1] = \" \".join(temp_list)"
   ]
  },
  {
   "cell_type": "code",
   "execution_count": 39,
   "metadata": {},
   "outputs": [
    {
     "name": "stdout",
     "output_type": "stream",
     "text": [
      "train 중복값의 수 : 3277 \n",
      "test 중복값의 수 : 0\n"
     ]
    }
   ],
   "source": [
    "print(f\"train 중복값의 수 : {len(dup_value)} \\ntest 중복값의 수 : {len(t_dup_value)}\")"
   ]
  },
  {
   "cell_type": "markdown",
   "metadata": {},
   "source": [
    "## 2. X -> * (종결코돈 통일)"
   ]
  },
  {
   "cell_type": "code",
   "execution_count": 41,
   "metadata": {},
   "outputs": [
    {
     "name": "stderr",
     "output_type": "stream",
     "text": [
      "100%|██████████| 6201/6201 [00:21<00:00, 294.35it/s]"
     ]
    },
    {
     "name": "stdout",
     "output_type": "stream",
     "text": [
      "train data에 X가 포함 된 값의 수 : 0\n"
     ]
    },
    {
     "name": "stderr",
     "output_type": "stream",
     "text": [
      "\n"
     ]
    }
   ],
   "source": [
    "positions_with_X = []\n",
    "\n",
    "# 열을 반복하며 'X' 포함 여부 확인 및 대체\n",
    "for row_idx, row in enumerate(tqdm(train[train.columns[2:]].values)):  # ID, CLASS 제외\n",
    "    for col_idx, value in enumerate(row):\n",
    "        if 'X' in str(value):  # 'X'가 포함된 경우\n",
    "            # 위치 추가\n",
    "            positions_with_X.append((row_idx, train.columns[col_idx + 2]))  # (행 인덱스, 열 이름)\n",
    "\n",
    "print(f\"train data에 X가 포함 된 값의 수 : {len(positions_with_X)}\")"
   ]
  },
  {
   "cell_type": "code",
   "execution_count": 43,
   "metadata": {},
   "outputs": [
    {
     "name": "stderr",
     "output_type": "stream",
     "text": [
      "100%|██████████| 2546/2546 [00:07<00:00, 334.23it/s]"
     ]
    },
    {
     "name": "stdout",
     "output_type": "stream",
     "text": [
      "test data에 X가 포함 된 값의 수 : 5865\n"
     ]
    },
    {
     "name": "stderr",
     "output_type": "stream",
     "text": [
      "\n"
     ]
    }
   ],
   "source": [
    "t_positions_with_X = []\n",
    "\n",
    "# 열을 반복하며 'X' 포함 여부 확인 및 대체\n",
    "for row_idx, row in enumerate(tqdm(test[test.columns[1:]].values)):  # ID, CLASS 제외\n",
    "    for col_idx, value in enumerate(row):\n",
    "        if 'X' in str(value):  # 'X'가 포함된 경우\n",
    "            # 위치 추가\n",
    "            t_positions_with_X.append((row_idx, train.columns[col_idx + 1]))  # (행 인덱스, 열 이름)\n",
    "\n",
    "print(f\"test data에 X가 포함 된 값의 수 : {len(t_positions_with_X)}\")"
   ]
  },
  {
   "cell_type": "code",
   "execution_count": 44,
   "metadata": {},
   "outputs": [],
   "source": [
    "for col in test.columns[1:]:\n",
    "    test[col] = test[col].str.replace('X','\\*')   "
   ]
  },
  {
   "cell_type": "code",
   "execution_count": 45,
   "metadata": {},
   "outputs": [
    {
     "name": "stderr",
     "output_type": "stream",
     "text": [
      "100%|██████████| 2546/2546 [00:06<00:00, 383.27it/s]"
     ]
    },
    {
     "name": "stdout",
     "output_type": "stream",
     "text": [
      "test data에 slice가 포함 된 값의 수 : 0\n"
     ]
    },
    {
     "name": "stderr",
     "output_type": "stream",
     "text": [
      "\n"
     ]
    }
   ],
   "source": [
    "t_positions_with_slice = []\n",
    "\n",
    "# 열을 반복하며 'X' 포함 여부 확인 및 대체\n",
    "for row_idx, row in enumerate(tqdm(test[test.columns[1:]].values)):  # ID, CLASS 제외\n",
    "    for col_idx, value in enumerate(row):\n",
    "        if 'slice' in str(value):  # 'X'가 포함된 경우\n",
    "            # 위치 추가\n",
    "            t_positions_with_slice.append((row_idx, train.columns[col_idx + 1]))  # (행 인덱스, 열 이름)\n",
    "\n",
    "print(f\"test data에 slice가 포함 된 값의 수 : {len(t_positions_with_slice)}\")"
   ]
  },
  {
   "cell_type": "markdown",
   "metadata": {},
   "source": [
    "## 3. > 제거 (기존 데이터와 동일하게 처리)"
   ]
  },
  {
   "cell_type": "markdown",
   "metadata": {},
   "source": [
    "# 전처리한 데이터 저장"
   ]
  },
  {
   "cell_type": "code",
   "execution_count": null,
   "metadata": {},
   "outputs": [],
   "source": [
    "train.to_csv('../train_data/train_preprocessing.csv')\n",
    "test.to_csv('../train_data/test_preprocessing.csv')"
   ]
  }
 ],
 "metadata": {
  "kernelspec": {
   "display_name": "Python 3",
   "language": "python",
   "name": "python3"
  },
  "language_info": {
   "codemirror_mode": {
    "name": "ipython",
    "version": 3
   },
   "file_extension": ".py",
   "mimetype": "text/x-python",
   "name": "python",
   "nbconvert_exporter": "python",
   "pygments_lexer": "ipython3",
   "version": "3.11.6"
  }
 },
 "nbformat": 4,
 "nbformat_minor": 2
}
