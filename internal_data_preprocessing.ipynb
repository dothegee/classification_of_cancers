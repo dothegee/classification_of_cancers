{
 "cells": [
  {
   "cell_type": "markdown",
   "metadata": {},
   "source": [
    "# IMPORT LIBRARAY"
   ]
  },
  {
   "cell_type": "code",
   "execution_count": 7,
   "metadata": {},
   "outputs": [],
   "source": [
    "import pandas as pd\n",
    "from tqdm import tqdm"
   ]
  },
  {
   "cell_type": "code",
   "execution_count": 34,
   "metadata": {},
   "outputs": [],
   "source": [
    "raw_train = pd.read_csv('../train_data/train.csv')\n",
    "raw_test = pd.read_csv('../train_data/test.csv')\n",
    "raw_test = raw_test.fillna('WT')"
   ]
  },
  {
   "cell_type": "code",
   "execution_count": 35,
   "metadata": {},
   "outputs": [],
   "source": [
    "train = raw_train.copy()\n"
   ]
  },
  {
   "cell_type": "code",
   "execution_count": 36,
   "metadata": {},
   "outputs": [],
   "source": [
    "test = raw_test.copy()"
   ]
  },
  {
   "cell_type": "markdown",
   "metadata": {},
   "source": [
    "# 데이터 전처리"
   ]
  },
  {
   "cell_type": "markdown",
   "metadata": {},
   "source": [
    "## 1. 중복 제거 (ex. R123A R123A -> R123A)"
   ]
  },
  {
   "cell_type": "code",
   "execution_count": 37,
   "metadata": {},
   "outputs": [
    {
     "name": "stderr",
     "output_type": "stream",
     "text": [
      "100%|██████████| 6201/6201 [00:21<00:00, 293.27it/s]\n"
     ]
    }
   ],
   "source": [
    "dup_value = []\n",
    "for row_idx, row in enumerate(tqdm(train[train.columns[2:]].values)):  # ID, CLASS 제외 \n",
    "    for col_idx, value in enumerate(row):\n",
    "        if \" \" in value:\n",
    "            temp_list = value.split()\n",
    "            \n",
    "            for x in temp_list:\n",
    "                temp_check = temp_list.copy()\n",
    "                temp_check.remove(x)\n",
    "                if x in temp_check:\n",
    "                    dup_value.append(f\"{row_idx}, {col_idx+2}\")\n",
    "                    break\n",
    "            temp_list = list(set(temp_list))\n",
    "            train.iloc[row_idx, col_idx+2] = \" \".join(temp_list)"
   ]
  },
  {
   "cell_type": "code",
   "execution_count": 38,
   "metadata": {},
   "outputs": [
    {
     "name": "stderr",
     "output_type": "stream",
     "text": [
      "100%|██████████| 2546/2546 [00:14<00:00, 174.91it/s]\n"
     ]
    }
   ],
   "source": [
    "# test.iloc[인댁스, 칼럼]\n",
    "t_dup_value = []\n",
    "for row_idx, row in enumerate(tqdm(test[test.columns[1:]].values)):  # ID, CLASS 제외 \n",
    "    for col_idx, value in enumerate(row):\n",
    "        if \" \" in value:\n",
    "            temp_list = value.split()\n",
    "            \n",
    "            for x in temp_list:\n",
    "                temp_check = temp_list.copy()\n",
    "                temp_check.remove(x)\n",
    "                if x in temp_check:\n",
    "                    dup_value.append(f\"{row_idx}, {col_idx+1}\")\n",
    "                    break\n",
    "            temp_list = list(set(temp_list))\n",
    "            test.iloc[row_idx, col_idx+1] = \" \".join(temp_list)"
   ]
  },
  {
   "cell_type": "code",
   "execution_count": 39,
   "metadata": {},
   "outputs": [
    {
     "name": "stdout",
     "output_type": "stream",
     "text": [
      "train 중복값의 수 : 3277 \n",
      "test 중복값의 수 : 0\n"
     ]
    }
   ],
   "source": [
    "print(f\"train 중복값의 수 : {len(dup_value)} \\ntest 중복값의 수 : {len(t_dup_value)}\")"
   ]
  },
  {
   "cell_type": "markdown",
   "metadata": {},
   "source": [
    "## 2. X -> * (종결코돈 통일)"
   ]
  },
  {
   "cell_type": "code",
   "execution_count": 41,
   "metadata": {},
   "outputs": [
    {
     "name": "stderr",
     "output_type": "stream",
     "text": [
      "100%|██████████| 6201/6201 [00:21<00:00, 294.35it/s]"
     ]
    },
    {
     "name": "stdout",
     "output_type": "stream",
     "text": [
      "train data에 X가 포함 된 값의 수 : 0\n"
     ]
    },
    {
     "name": "stderr",
     "output_type": "stream",
     "text": [
      "\n"
     ]
    }
   ],
   "source": [
    "positions_with_X = []\n",
    "\n",
    "# 열을 반복하며 'X' 포함 여부 확인 및 대체\n",
    "for row_idx, row in enumerate(tqdm(train[train.columns[2:]].values)):  # ID, CLASS 제외\n",
    "    for col_idx, value in enumerate(row):\n",
    "        if 'X' in str(value):  # 'X'가 포함된 경우\n",
    "            # 위치 추가\n",
    "            positions_with_X.append((row_idx, train.columns[col_idx + 2]))  # (행 인덱스, 열 이름)\n",
    "\n",
    "print(f\"train data에 X가 포함 된 값의 수 : {len(positions_with_X)}\")"
   ]
  },
  {
   "cell_type": "code",
   "execution_count": 43,
   "metadata": {},
   "outputs": [
    {
     "name": "stderr",
     "output_type": "stream",
     "text": [
      "100%|██████████| 2546/2546 [00:07<00:00, 334.23it/s]"
     ]
    },
    {
     "name": "stdout",
     "output_type": "stream",
     "text": [
      "test data에 X가 포함 된 값의 수 : 5865\n"
     ]
    },
    {
     "name": "stderr",
     "output_type": "stream",
     "text": [
      "\n"
     ]
    }
   ],
   "source": [
    "t_positions_with_X = []\n",
    "\n",
    "# 열을 반복하며 'X' 포함 여부 확인 및 대체\n",
    "for row_idx, row in enumerate(tqdm(test[test.columns[1:]].values)):  # ID, CLASS 제외\n",
    "    for col_idx, value in enumerate(row):\n",
    "        if 'X' in str(value):  # 'X'가 포함된 경우\n",
    "            # 위치 추가\n",
    "            t_positions_with_X.append((row_idx, train.columns[col_idx + 1]))  # (행 인덱스, 열 이름)\n",
    "\n",
    "print(f\"test data에 X가 포함 된 값의 수 : {len(t_positions_with_X)}\")"
   ]
  },
  {
   "cell_type": "code",
   "execution_count": 44,
   "metadata": {},
   "outputs": [],
   "source": [
    "for col in test.columns[1:]:\n",
    "    test[col] = test[col].str.replace('X','\\*')   "
   ]
  },
  {
   "cell_type": "markdown",
   "metadata": {},
   "source": [
    "## 3. splice 존재 확인"
   ]
  },
  {
   "cell_type": "code",
   "execution_count": 48,
   "metadata": {},
   "outputs": [
    {
     "name": "stderr",
     "output_type": "stream",
     "text": [
      "100%|██████████| 2546/2546 [00:09<00:00, 262.32it/s]"
     ]
    },
    {
     "name": "stdout",
     "output_type": "stream",
     "text": [
      "train data에 slice가 포함 된 값의 수 : 0\n"
     ]
    },
    {
     "name": "stderr",
     "output_type": "stream",
     "text": [
      "\n"
     ]
    }
   ],
   "source": [
    "positions_with_splice = []\n",
    "\n",
    "# 열을 반복하며 'X' 포함 여부 확인 및 대체\n",
    "for row_idx, row in enumerate(tqdm(test[test.columns[2:]].values)):  # ID, CLASS 제외\n",
    "    for col_idx, value in enumerate(row):\n",
    "        if 'splice' in str(value):  # 'X'가 포함된 경우\n",
    "            # 위치 추가\n",
    "            positions_with_splice.append((row_idx, train.columns[col_idx + 2]))  # (행 인덱스, 열 이름)\n",
    "\n",
    "print(f\"train data에 slice가 포함 된 값의 수 : {len(positions_with_splice)}\")"
   ]
  },
  {
   "cell_type": "code",
   "execution_count": 47,
   "metadata": {},
   "outputs": [
    {
     "name": "stderr",
     "output_type": "stream",
     "text": [
      "100%|██████████| 2546/2546 [00:08<00:00, 306.05it/s]"
     ]
    },
    {
     "name": "stdout",
     "output_type": "stream",
     "text": [
      "test data에 slice가 포함 된 값의 수 : 0\n"
     ]
    },
    {
     "name": "stderr",
     "output_type": "stream",
     "text": [
      "\n"
     ]
    }
   ],
   "source": [
    "t_positions_with_splice = []\n",
    "\n",
    "# 열을 반복하며 'X' 포함 여부 확인 및 대체\n",
    "for row_idx, row in enumerate(tqdm(test[test.columns[1:]].values)):  # ID, CLASS 제외\n",
    "    for col_idx, value in enumerate(row):\n",
    "        if 'splice' in str(value):  # 'X'가 포함된 경우\n",
    "            # 위치 추가\n",
    "            t_positions_with_splice.append((row_idx, train.columns[col_idx + 1]))  # (행 인덱스, 열 이름)\n",
    "\n",
    "print(f\"test data에 slice가 포함 된 값의 수 : {len(t_positions_with_splice)}\")"
   ]
  },
  {
   "cell_type": "markdown",
   "metadata": {},
   "source": [
    "## 4. > 확인"
   ]
  },
  {
   "cell_type": "code",
   "execution_count": 51,
   "metadata": {},
   "outputs": [
    {
     "name": "stderr",
     "output_type": "stream",
     "text": [
      "  1%|          | 64/6201 [00:00<00:45, 134.21it/s]"
     ]
    },
    {
     "name": "stdout",
     "output_type": "stream",
     "text": [
      "1529_1530AL>AL S1340S\n",
      "142_143RL>RL\n",
      "4510_4511AL>AL\n",
      "355_356QG>H*\n",
      "348_349LE>F*\n"
     ]
    },
    {
     "name": "stderr",
     "output_type": "stream",
     "text": [
      "  2%|▏         | 130/6201 [00:00<00:32, 188.09it/s]"
     ]
    },
    {
     "name": "stdout",
     "output_type": "stream",
     "text": [
      "91_92NH>KY\n",
      "116_117LG>F* W908F\n",
      "468_469LG>F*\n",
      "123_124MP>IA\n",
      "312_313QY>HH\n"
     ]
    },
    {
     "name": "stderr",
     "output_type": "stream",
     "text": [
      "  3%|▎         | 207/6201 [00:01<00:55, 108.18it/s]"
     ]
    },
    {
     "name": "stdout",
     "output_type": "stream",
     "text": [
      "312_313EQ>D*\n",
      "2213_2214LE>F*\n",
      "1762_1763QG>HC\n"
     ]
    },
    {
     "name": "stderr",
     "output_type": "stream",
     "text": [
      "  4%|▍         | 263/6201 [00:02<00:54, 109.37it/s]"
     ]
    },
    {
     "name": "stdout",
     "output_type": "stream",
     "text": [
      "164_165KA>NS\n"
     ]
    },
    {
     "name": "stderr",
     "output_type": "stream",
     "text": [
      "  6%|▋         | 401/6201 [00:02<00:21, 273.81it/s]"
     ]
    },
    {
     "name": "stdout",
     "output_type": "stream",
     "text": [
      "46_47MQ>I*\n",
      "569_570HG>QW\n",
      "1181_1182ML>IV\n",
      "298_299KP>NT\n"
     ]
    },
    {
     "name": "stderr",
     "output_type": "stream",
     "text": [
      "  8%|▊         | 514/6201 [00:02<00:19, 299.23it/s]"
     ]
    },
    {
     "name": "stdout",
     "output_type": "stream",
     "text": [
      "280_281MD>IN\n",
      "373_374DL>DL S553C\n",
      "586_587WN>*Y N1591H H1566Y G1495E\n",
      "495_496MF>II\n",
      "138_139FL>FL\n",
      "252_253CP>*S\n",
      "194_195SL>SL\n",
      "48_49SL>SL\n",
      "15_16WE>*K\n",
      "354_355PL>PL\n",
      "89_90FH>LY\n",
      "51_52NL>KI\n",
      "7406_7407MA>IS\n"
     ]
    },
    {
     "name": "stderr",
     "output_type": "stream",
     "text": [
      " 10%|▉         | 612/6201 [00:03<00:19, 282.42it/s]"
     ]
    },
    {
     "name": "stdout",
     "output_type": "stream",
     "text": [
      "273_274KY>NN\n",
      "70_71SL>SL\n"
     ]
    },
    {
     "name": "stderr",
     "output_type": "stream",
     "text": [
      " 11%|█         | 665/6201 [00:03<00:36, 149.76it/s]"
     ]
    },
    {
     "name": "stdout",
     "output_type": "stream",
     "text": [
      "304_305HL>HL\n",
      "106_107LV>FF\n"
     ]
    },
    {
     "name": "stderr",
     "output_type": "stream",
     "text": [
      " 12%|█▏        | 748/6201 [00:04<00:27, 198.44it/s]"
     ]
    },
    {
     "name": "stdout",
     "output_type": "stream",
     "text": [
      "L1038V Q1212* 1432_1433LL>LL\n",
      "82_83DA>EI\n",
      "138_139FH>LN\n",
      "831_832CR>*S\n",
      "426_427KD>NY\n",
      "18_19YI>*F\n",
      "V980V 572_573VL>VL T493T\n",
      "139_140MG>I*\n",
      "292_293DP>ES\n",
      "127_128KL>KL\n"
     ]
    },
    {
     "name": "stderr",
     "output_type": "stream",
     "text": [
      " 13%|█▎        | 820/6201 [00:04<00:21, 248.51it/s]"
     ]
    },
    {
     "name": "stdout",
     "output_type": "stream",
     "text": [
      "612_613QR>HC\n",
      "165_166WE>*K\n",
      "1821_1822FL>FL\n",
      "62_63KV>NL\n"
     ]
    },
    {
     "name": "stderr",
     "output_type": "stream",
     "text": [
      " 14%|█▍        | 872/6201 [00:04<00:16, 316.49it/s]"
     ]
    },
    {
     "name": "stdout",
     "output_type": "stream",
     "text": [
      "6_7LL>LL\n",
      "140_141NR>KW\n",
      "290_291FK>LQ\n",
      "91_92TL>TL\n",
      "315_316AL>AL\n"
     ]
    },
    {
     "name": "stderr",
     "output_type": "stream",
     "text": [
      " 15%|█▍        | 908/6201 [00:04<00:20, 252.07it/s]"
     ]
    },
    {
     "name": "stdout",
     "output_type": "stream",
     "text": [
      "888_889HK>Q*\n",
      "220_221KA>NS\n"
     ]
    },
    {
     "name": "stderr",
     "output_type": "stream",
     "text": [
      " 16%|█▌        | 962/6201 [00:05<00:32, 161.09it/s]"
     ]
    },
    {
     "name": "stdout",
     "output_type": "stream",
     "text": [
      "548_549KD>NY\n",
      "1293_1294MD>IY\n",
      "451_452EA>DS\n"
     ]
    },
    {
     "name": "stderr",
     "output_type": "stream",
     "text": [
      " 17%|█▋        | 1058/6201 [00:05<00:21, 240.91it/s]"
     ]
    },
    {
     "name": "stdout",
     "output_type": "stream",
     "text": [
      "110_111LL>LL\n",
      "721_722LA>FS\n",
      "216_217SR>R*\n",
      "390_391NE>KK\n"
     ]
    },
    {
     "name": "stderr",
     "output_type": "stream",
     "text": [
      " 18%|█▊        | 1122/6201 [00:05<00:19, 267.12it/s]"
     ]
    },
    {
     "name": "stdout",
     "output_type": "stream",
     "text": [
      "1436_1437SI>RF\n",
      "59_60HY>QH\n",
      "142_143GL>GL\n",
      "53_54QS>HC\n"
     ]
    },
    {
     "name": "stderr",
     "output_type": "stream",
     "text": [
      " 21%|██        | 1287/6201 [00:06<00:14, 341.10it/s]"
     ]
    },
    {
     "name": "stdout",
     "output_type": "stream",
     "text": [
      "2713_2714FH>LD\n",
      "D1672H 413_414QQ>H*\n",
      "171_172CQ>*K\n",
      "300_301LE>F*\n",
      "929_930LL>LL\n",
      "2126_2127WE>*K\n"
     ]
    },
    {
     "name": "stderr",
     "output_type": "stream",
     "text": [
      " 22%|██▏       | 1359/6201 [00:06<00:15, 313.31it/s]"
     ]
    },
    {
     "name": "stdout",
     "output_type": "stream",
     "text": [
      "333_334DR>E*\n",
      "R557K 1052_1053EE>DK E858E\n",
      "435_436EA>DS\n",
      "361_362AL>AL\n",
      "4_5PL>PL\n",
      "873_874LL>LL\n",
      "171_172WG>*R\n",
      "240_241ME>I* K243fs\n",
      "Q891* 711_712FL>FL P276S\n",
      "594_595ME>IK H556Y\n",
      "E1042K G590S G649E T257T G157G L321L 1105_1106PL>PL L1064F\n",
      "187_188PL>PL\n",
      "S1718F K503K A1002A A1543T I673I A1403V V586V 1441_1442AL>AL E931K G716G G354S D1580N S158S\n",
      "2069_2070WA>*T S139L E4219K K1219K R2198C E4151K M4012I D4896N E3066E Q3925* L488L F4297F\n",
      "219_220DR>DR\n",
      "558_559LV>FF\n"
     ]
    },
    {
     "name": "stderr",
     "output_type": "stream",
     "text": [
      " 25%|██▍       | 1543/6201 [00:06<00:11, 392.24it/s]"
     ]
    },
    {
     "name": "stdout",
     "output_type": "stream",
     "text": [
      "178_179MR>I*\n",
      "1362_1363SH>RN T1292K\n",
      "176_177CE>F*\n"
     ]
    },
    {
     "name": "stderr",
     "output_type": "stream",
     "text": [
      " 26%|██▌       | 1624/6201 [00:07<00:12, 363.41it/s]"
     ]
    },
    {
     "name": "stdout",
     "output_type": "stream",
     "text": [
      "625_626MG>IC\n",
      "160_161MA>IS\n",
      "1018_1019YG>*C P1899S\n",
      "549_550KV>NL\n"
     ]
    },
    {
     "name": "stderr",
     "output_type": "stream",
     "text": [
      " 28%|██▊       | 1713/6201 [00:07<00:12, 356.65it/s]"
     ]
    },
    {
     "name": "stdout",
     "output_type": "stream",
     "text": [
      "94_95KT>NP\n",
      "41_42YI>*V\n",
      "435_436EA>DS\n",
      "478_479AL>AL\n"
     ]
    },
    {
     "name": "stderr",
     "output_type": "stream",
     "text": [
      " 29%|██▉       | 1805/6201 [00:08<00:20, 214.63it/s]"
     ]
    },
    {
     "name": "stdout",
     "output_type": "stream",
     "text": [
      "68_69TL>TL\n",
      "366_367LL>LL\n",
      "389_390MG>IR\n",
      "386_387IL>IL\n"
     ]
    },
    {
     "name": "stderr",
     "output_type": "stream",
     "text": [
      " 30%|███       | 1877/6201 [00:08<00:16, 258.33it/s]"
     ]
    },
    {
     "name": "stdout",
     "output_type": "stream",
     "text": [
      "106_107KG>NR\n",
      "270_271MM>IL\n",
      "122_123GL>GL\n",
      "1576_1577SL>SL P1315S\n",
      "82_83DA>EI\n"
     ]
    },
    {
     "name": "stderr",
     "output_type": "stream",
     "text": [
      " 33%|███▎      | 2019/6201 [00:08<00:11, 369.65it/s]"
     ]
    },
    {
     "name": "stdout",
     "output_type": "stream",
     "text": [
      "S2233L 713_714MA>IS\n",
      "142_143KE>NK\n"
     ]
    },
    {
     "name": "stderr",
     "output_type": "stream",
     "text": [
      " 33%|███▎      | 2059/6201 [00:08<00:11, 350.15it/s]"
     ]
    },
    {
     "name": "stdout",
     "output_type": "stream",
     "text": [
      "157_158DF>EI\n",
      "236_237LL>LL\n"
     ]
    },
    {
     "name": "stderr",
     "output_type": "stream",
     "text": [
      " 36%|███▌      | 2231/6201 [00:09<00:10, 388.10it/s]"
     ]
    },
    {
     "name": "stdout",
     "output_type": "stream",
     "text": [
      "95_96DL>EF\n",
      "338_339QR>HW\n",
      "254_255LV>FL\n",
      "79_80LV>FL\n"
     ]
    },
    {
     "name": "stderr",
     "output_type": "stream",
     "text": [
      " 38%|███▊      | 2342/6201 [00:09<00:15, 245.87it/s]"
     ]
    },
    {
     "name": "stdout",
     "output_type": "stream",
     "text": [
      "258_259WE>*K\n",
      "947_948KG>NC\n",
      "299_300MH>IY\n",
      "1113_1114RL>RL\n",
      "497_498CL>CL\n",
      "305_306DL>DL\n"
     ]
    },
    {
     "name": "stderr",
     "output_type": "stream",
     "text": [
      " 39%|███▉      | 2424/6201 [00:09<00:13, 287.70it/s]"
     ]
    },
    {
     "name": "stdout",
     "output_type": "stream",
     "text": [
      "4367_4368KE>N* G2340G\n",
      "318_319MG>I*\n",
      "15_16LL>LL\n"
     ]
    },
    {
     "name": "stderr",
     "output_type": "stream",
     "text": [
      " 41%|████      | 2553/6201 [00:10<00:10, 351.01it/s]"
     ]
    },
    {
     "name": "stdout",
     "output_type": "stream",
     "text": [
      "1998_1999KR>NW\n",
      "3080_3081LV>FF\n"
     ]
    },
    {
     "name": "stderr",
     "output_type": "stream",
     "text": [
      " 42%|████▏     | 2629/6201 [00:10<00:10, 336.84it/s]"
     ]
    },
    {
     "name": "stdout",
     "output_type": "stream",
     "text": [
      "208_209KG>N*\n",
      "E1040V 3740_3741EE>D*\n"
     ]
    },
    {
     "name": "stderr",
     "output_type": "stream",
     "text": [
      " 43%|████▎     | 2696/6201 [00:10<00:11, 304.61it/s]"
     ]
    },
    {
     "name": "stdout",
     "output_type": "stream",
     "text": [
      "300_301MG>IW\n",
      "229_230HM>QV\n"
     ]
    },
    {
     "name": "stderr",
     "output_type": "stream",
     "text": [
      " 44%|████▍     | 2741/6201 [00:10<00:10, 342.67it/s]"
     ]
    },
    {
     "name": "stdout",
     "output_type": "stream",
     "text": [
      "A858A 586_587LA>FS\n",
      "297_298KE>N*\n",
      "345_346WV>*I\n"
     ]
    },
    {
     "name": "stderr",
     "output_type": "stream",
     "text": [
      " 45%|████▌     | 2806/6201 [00:11<00:14, 231.14it/s]"
     ]
    },
    {
     "name": "stdout",
     "output_type": "stream",
     "text": [
      "87_88EV>DL\n",
      "560_561MQ>IK\n"
     ]
    },
    {
     "name": "stderr",
     "output_type": "stream",
     "text": [
      " 49%|████▊     | 3010/6201 [00:11<00:09, 326.70it/s]"
     ]
    },
    {
     "name": "stdout",
     "output_type": "stream",
     "text": [
      "3589_3590QI>HV\n",
      "86_87ME>IK\n"
     ]
    },
    {
     "name": "stderr",
     "output_type": "stream",
     "text": [
      " 50%|████▉     | 3091/6201 [00:12<00:09, 320.39it/s]"
     ]
    },
    {
     "name": "stdout",
     "output_type": "stream",
     "text": [
      "179_180QI>HV\n"
     ]
    },
    {
     "name": "stderr",
     "output_type": "stream",
     "text": [
      " 51%|█████     | 3172/6201 [00:12<00:09, 306.65it/s]"
     ]
    },
    {
     "name": "stdout",
     "output_type": "stream",
     "text": [
      "N3636D 2865_2866IL>IL\n",
      "T581R 128_129WT>*S\n",
      "504_505PL>PL\n"
     ]
    },
    {
     "name": "stderr",
     "output_type": "stream",
     "text": [
      " 52%|█████▏    | 3249/6201 [00:12<00:09, 313.69it/s]"
     ]
    },
    {
     "name": "stdout",
     "output_type": "stream",
     "text": [
      "566_567FD>LH\n",
      "19_20QA>HS\n",
      "1670_1671QE>H*\n",
      "197_198YQ>**\n"
     ]
    },
    {
     "name": "stderr",
     "output_type": "stream",
     "text": [
      " 55%|█████▌    | 3440/6201 [00:13<00:06, 430.71it/s]"
     ]
    },
    {
     "name": "stdout",
     "output_type": "stream",
     "text": [
      "361_362QG>H*\n",
      "578_579AL>AL\n",
      "137_138YL>*F\n",
      "264_265MG>I*\n",
      "1099_1100KD>NY\n"
     ]
    },
    {
     "name": "stderr",
     "output_type": "stream",
     "text": [
      " 57%|█████▋    | 3529/6201 [00:13<00:07, 362.58it/s]"
     ]
    },
    {
     "name": "stdout",
     "output_type": "stream",
     "text": [
      "473_474PD>LY\n",
      "274_275TL>TL\n"
     ]
    },
    {
     "name": "stderr",
     "output_type": "stream",
     "text": [
      " 58%|█████▊    | 3578/6201 [00:13<00:06, 390.18it/s]"
     ]
    },
    {
     "name": "stdout",
     "output_type": "stream",
     "text": [
      "6455_6456ED>DY\n"
     ]
    },
    {
     "name": "stderr",
     "output_type": "stream",
     "text": [
      " 58%|█████▊    | 3619/6201 [00:13<00:10, 257.74it/s]"
     ]
    },
    {
     "name": "stdout",
     "output_type": "stream",
     "text": [
      "1069_1070QE>HK G58E P82L K1268K\n",
      "856_857IR>IR\n"
     ]
    },
    {
     "name": "stderr",
     "output_type": "stream",
     "text": [
      " 60%|██████    | 3739/6201 [00:14<00:08, 299.27it/s]"
     ]
    },
    {
     "name": "stdout",
     "output_type": "stream",
     "text": [
      "203_204LL>LL\n",
      "500_501QD>HY\n",
      "859_860EK>DE\n",
      "2602_2603EE>D*\n",
      "1221_1222SL>SL\n",
      "229_230SL>SL\n",
      "313_314HL>HL\n"
     ]
    },
    {
     "name": "stderr",
     "output_type": "stream",
     "text": [
      " 62%|██████▏   | 3848/6201 [00:14<00:07, 307.41it/s]"
     ]
    },
    {
     "name": "stdout",
     "output_type": "stream",
     "text": [
      "1499_1500HL>HL\n"
     ]
    },
    {
     "name": "stderr",
     "output_type": "stream",
     "text": [
      " 64%|██████▍   | 3998/6201 [00:15<00:06, 343.71it/s]"
     ]
    },
    {
     "name": "stdout",
     "output_type": "stream",
     "text": [
      "39_40QM>HL\n",
      "57_58WV>*I\n"
     ]
    },
    {
     "name": "stderr",
     "output_type": "stream",
     "text": [
      " 67%|██████▋   | 4152/6201 [00:15<00:05, 354.88it/s]"
     ]
    },
    {
     "name": "stdout",
     "output_type": "stream",
     "text": [
      "752_753MQ>I*\n",
      "499_500QV>HF\n",
      "483_484MP>IA\n"
     ]
    },
    {
     "name": "stderr",
     "output_type": "stream",
     "text": [
      " 68%|██████▊   | 4226/6201 [00:15<00:06, 306.54it/s]"
     ]
    },
    {
     "name": "stdout",
     "output_type": "stream",
     "text": [
      "129_130RG>SS\n",
      "92_93AR>AR\n",
      "1495_1496MV>II\n",
      "312_313QY>HH\n",
      "347_348ME>IK\n"
     ]
    },
    {
     "name": "stderr",
     "output_type": "stream",
     "text": [
      " 71%|███████   | 4388/6201 [00:16<00:05, 341.96it/s]"
     ]
    },
    {
     "name": "stdout",
     "output_type": "stream",
     "text": [
      "846_847DP>ET\n",
      "399_400QP>HS\n",
      "281_282KE>N*\n"
     ]
    },
    {
     "name": "stderr",
     "output_type": "stream",
     "text": [
      " 72%|███████▏  | 4461/6201 [00:16<00:05, 322.28it/s]"
     ]
    },
    {
     "name": "stdout",
     "output_type": "stream",
     "text": [
      "929_930LL>LL\n"
     ]
    },
    {
     "name": "stderr",
     "output_type": "stream",
     "text": [
      " 75%|███████▌  | 4673/6201 [00:17<00:03, 389.53it/s]"
     ]
    },
    {
     "name": "stdout",
     "output_type": "stream",
     "text": [
      "8_9PL>PL\n",
      "581_582YI>*F\n",
      "1430_1431QG>HC\n"
     ]
    },
    {
     "name": "stderr",
     "output_type": "stream",
     "text": [
      " 77%|███████▋  | 4753/6201 [00:17<00:03, 367.74it/s]"
     ]
    },
    {
     "name": "stdout",
     "output_type": "stream",
     "text": [
      "292_293DP>ES\n",
      "127_128KL>KL\n",
      "49_50WE>*K\n",
      "447_448TL>TL\n",
      "70_71QH>HD\n",
      "1099_1100PL>PL F1917F\n",
      "1357_1358LL>LL\n"
     ]
    },
    {
     "name": "stderr",
     "output_type": "stream",
     "text": [
      " 78%|███████▊  | 4846/6201 [00:17<00:03, 346.75it/s]"
     ]
    },
    {
     "name": "stdout",
     "output_type": "stream",
     "text": [
      "171_172YP>*S\n",
      "582_583AL>AL\n",
      "80_81EG>DC\n"
     ]
    },
    {
     "name": "stderr",
     "output_type": "stream",
     "text": [
      " 81%|████████  | 5025/6201 [00:17<00:03, 386.75it/s]"
     ]
    },
    {
     "name": "stdout",
     "output_type": "stream",
     "text": [
      "745_746YG>*C\n",
      "226_227VL>VL\n"
     ]
    },
    {
     "name": "stderr",
     "output_type": "stream",
     "text": [
      " 82%|████████▏ | 5102/6201 [00:18<00:03, 280.21it/s]"
     ]
    },
    {
     "name": "stdout",
     "output_type": "stream",
     "text": [
      "305_306MA>IS\n",
      "12_13MD>IN\n"
     ]
    },
    {
     "name": "stderr",
     "output_type": "stream",
     "text": [
      " 85%|████████▍ | 5270/6201 [00:18<00:02, 370.89it/s]"
     ]
    },
    {
     "name": "stdout",
     "output_type": "stream",
     "text": [
      "2134_2135MK>IE\n",
      "R4144H 3215_3216ME>I* H621Q\n",
      "604_605WE>C*\n"
     ]
    },
    {
     "name": "stderr",
     "output_type": "stream",
     "text": [
      " 86%|████████▌ | 5348/6201 [00:19<00:03, 269.60it/s]"
     ]
    },
    {
     "name": "stdout",
     "output_type": "stream",
     "text": [
      "485_486QD>HN\n",
      "235_236NL>KV\n"
     ]
    },
    {
     "name": "stderr",
     "output_type": "stream",
     "text": [
      " 89%|████████▉ | 5517/6201 [00:19<00:01, 376.07it/s]"
     ]
    },
    {
     "name": "stdout",
     "output_type": "stream",
     "text": [
      "115_116KE>N*\n",
      "38_39WL>*F\n",
      "483_484MP>IA\n",
      "304_305SA>RP\n"
     ]
    },
    {
     "name": "stderr",
     "output_type": "stream",
     "text": [
      " 91%|█████████ | 5638/6201 [00:19<00:01, 334.59it/s]"
     ]
    },
    {
     "name": "stdout",
     "output_type": "stream",
     "text": [
      "434_435KA>NS\n",
      "616_617SL>RV\n",
      "527_528FL>LM\n"
     ]
    },
    {
     "name": "stderr",
     "output_type": "stream",
     "text": [
      " 93%|█████████▎| 5753/6201 [00:20<00:01, 340.93it/s]"
     ]
    },
    {
     "name": "stdout",
     "output_type": "stream",
     "text": [
      "251_252LT>FS\n",
      "184_185FL>FL\n",
      "29_30ED>DN\n",
      "106_107VL>VL\n"
     ]
    },
    {
     "name": "stderr",
     "output_type": "stream",
     "text": [
      " 95%|█████████▌| 5893/6201 [00:20<00:00, 394.20it/s]"
     ]
    },
    {
     "name": "stdout",
     "output_type": "stream",
     "text": [
      "188_189ME>I*\n",
      "353_354KG>N*\n",
      "264_265MG>I*\n",
      "31_32QG>HW\n",
      "525_526KG>NC\n",
      "203_204LL>LL\n",
      "139_140MG>I*\n",
      "445_446MG>IW\n",
      "208_209MG>IW\n",
      "3507_3508ME>IK\n",
      "402_403ED>DY\n"
     ]
    },
    {
     "name": "stderr",
     "output_type": "stream",
     "text": [
      " 97%|█████████▋| 6019/6201 [00:21<00:00, 341.85it/s]"
     ]
    },
    {
     "name": "stdout",
     "output_type": "stream",
     "text": [
      "62_63ME>I*\n",
      "313_314LG>FR K717M\n"
     ]
    },
    {
     "name": "stderr",
     "output_type": "stream",
     "text": [
      " 98%|█████████▊| 6096/6201 [00:21<00:00, 305.26it/s]"
     ]
    },
    {
     "name": "stdout",
     "output_type": "stream",
     "text": [
      "468_469LG>F*\n",
      "210_211PR>PR\n",
      "346_347SL>SL\n"
     ]
    },
    {
     "name": "stderr",
     "output_type": "stream",
     "text": [
      "100%|██████████| 6201/6201 [00:21<00:00, 285.56it/s]"
     ]
    },
    {
     "name": "stdout",
     "output_type": "stream",
     "text": [
      "P464Q R1933I 2099_2100MG>IC G943L 1037_1038EG>D* P2150N G598W\n",
      "P185N 476_477MG>I*\n",
      "42_43DP>ES V33M R11C\n",
      "59_60MG>I*\n",
      "train data에 slice가 포함 된 값의 수 : 232\n"
     ]
    },
    {
     "name": "stderr",
     "output_type": "stream",
     "text": [
      "\n"
     ]
    }
   ],
   "source": [
    "positions_with_a = []\n",
    "\n",
    "# 열을 반복하며 'X' 포함 여부 확인 및 대체\n",
    "for row_idx, row in enumerate(tqdm(train[train.columns[2:]].values)):  # ID, CLASS 제외\n",
    "    for col_idx, value in enumerate(row):\n",
    "        if '>' in str(value):  # 'X'가 포함된 경우\n",
    "            # 위치 추가\n",
    "            positions_with_a.append((row_idx, train.columns[col_idx + 2]))  # (행 인덱스, 열 이름)\n",
    "            print(train.iloc[row_idx, col_idx + 2])\n",
    "print(f\"train data에 slice가 포함 된 값의 수 : {len(positions_with_a)}\")"
   ]
  },
  {
   "cell_type": "code",
   "execution_count": 49,
   "metadata": {},
   "outputs": [
    {
     "name": "stderr",
     "output_type": "stream",
     "text": [
      "  8%|▊         | 213/2546 [00:01<00:08, 276.88it/s]"
     ]
    },
    {
     "name": "stdout",
     "output_type": "stream",
     "text": [
      "447_448MD>IN\n",
      "311_312PL>PL\n"
     ]
    },
    {
     "name": "stderr",
     "output_type": "stream",
     "text": [
      " 15%|█▌        | 393/2546 [00:02<00:08, 264.56it/s]"
     ]
    },
    {
     "name": "stdout",
     "output_type": "stream",
     "text": [
      "22_23CM>*L\n",
      "87_88EV>DL\n",
      "226_227DL>DL\n",
      "499_500SQ>R*\n"
     ]
    },
    {
     "name": "stderr",
     "output_type": "stream",
     "text": [
      " 27%|██▋       | 700/2546 [00:03<00:04, 370.95it/s]"
     ]
    },
    {
     "name": "stdout",
     "output_type": "stream",
     "text": [
      "134_135MG>IC\n",
      "R2130I 693_694KG>NC\n"
     ]
    },
    {
     "name": "stderr",
     "output_type": "stream",
     "text": [
      " 32%|███▏      | 823/2546 [00:03<00:04, 378.23it/s]"
     ]
    },
    {
     "name": "stdout",
     "output_type": "stream",
     "text": [
      "77_78NT>KS\n",
      "179_180QI>HV\n"
     ]
    },
    {
     "name": "stderr",
     "output_type": "stream",
     "text": [
      " 49%|████▊     | 1239/2546 [00:04<00:03, 386.06it/s]"
     ]
    },
    {
     "name": "stdout",
     "output_type": "stream",
     "text": [
      "49_50YK>**\n"
     ]
    },
    {
     "name": "stderr",
     "output_type": "stream",
     "text": [
      " 50%|█████     | 1279/2546 [00:04<00:03, 358.34it/s]"
     ]
    },
    {
     "name": "stdout",
     "output_type": "stream",
     "text": [
      "205_206QE>H*\n"
     ]
    },
    {
     "name": "stderr",
     "output_type": "stream",
     "text": [
      " 53%|█████▎    | 1353/2546 [00:04<00:03, 328.38it/s]"
     ]
    },
    {
     "name": "stdout",
     "output_type": "stream",
     "text": [
      "1656_1657QG>HW\n",
      "120_121AL>AL\n"
     ]
    },
    {
     "name": "stderr",
     "output_type": "stream",
     "text": [
      " 60%|██████    | 1531/2546 [00:05<00:02, 391.15it/s]"
     ]
    },
    {
     "name": "stdout",
     "output_type": "stream",
     "text": [
      "656_657HL>HL\n",
      "874_875LQ>F*\n",
      "88_89GL>GL\n"
     ]
    },
    {
     "name": "stderr",
     "output_type": "stream",
     "text": [
      " 62%|██████▏   | 1572/2546 [00:05<00:03, 249.93it/s]"
     ]
    },
    {
     "name": "stdout",
     "output_type": "stream",
     "text": [
      "46_47MQ>I*\n"
     ]
    },
    {
     "name": "stderr",
     "output_type": "stream",
     "text": [
      " 64%|██████▍   | 1640/2546 [00:06<00:03, 244.31it/s]"
     ]
    },
    {
     "name": "stdout",
     "output_type": "stream",
     "text": [
      "149_150WD>CY\n",
      "70_71MG>IW\n",
      "706_707NL>NL\n"
     ]
    },
    {
     "name": "stderr",
     "output_type": "stream",
     "text": [
      " 67%|██████▋   | 1714/2546 [00:06<00:03, 268.69it/s]"
     ]
    },
    {
     "name": "stdout",
     "output_type": "stream",
     "text": [
      "713_714MG>IR V87V\n",
      "466_467GR>GR\n",
      "178_179MR>I*\n"
     ]
    },
    {
     "name": "stderr",
     "output_type": "stream",
     "text": [
      " 73%|███████▎  | 1859/2546 [00:06<00:02, 336.50it/s]"
     ]
    },
    {
     "name": "stdout",
     "output_type": "stream",
     "text": [
      "46_47LR>LR\n",
      "667_668EE>D*\n",
      "1302_1303ME>I*\n",
      "32_33KV>NI\n",
      "H285Y 174_175LG>FW\n",
      "11_12LL>LL\n"
     ]
    },
    {
     "name": "stderr",
     "output_type": "stream",
     "text": [
      " 80%|███████▉  | 2031/2546 [00:07<00:01, 400.69it/s]"
     ]
    },
    {
     "name": "stdout",
     "output_type": "stream",
     "text": [
      "88_89LL>FI\n",
      "264_265MG>IC\n",
      "1262_1263EG>D*\n"
     ]
    },
    {
     "name": "stderr",
     "output_type": "stream",
     "text": [
      " 88%|████████▊ | 2246/2546 [00:07<00:00, 382.41it/s]"
     ]
    },
    {
     "name": "stdout",
     "output_type": "stream",
     "text": [
      "549_550KV>NL\n"
     ]
    },
    {
     "name": "stderr",
     "output_type": "stream",
     "text": [
      " 93%|█████████▎| 2364/2546 [00:08<00:00, 358.99it/s]"
     ]
    },
    {
     "name": "stdout",
     "output_type": "stream",
     "text": [
      "1053_1054EY>DH\n",
      "4731_4732EQ>D*\n"
     ]
    },
    {
     "name": "stderr",
     "output_type": "stream",
     "text": [
      " 94%|█████████▍| 2401/2546 [00:08<00:00, 322.38it/s]"
     ]
    },
    {
     "name": "stdout",
     "output_type": "stream",
     "text": [
      "2563_2564KD>NY\n",
      "570_571KD>NY\n"
     ]
    },
    {
     "name": "stderr",
     "output_type": "stream",
     "text": [
      " 99%|█████████▉| 2518/2546 [00:08<00:00, 351.06it/s]"
     ]
    },
    {
     "name": "stdout",
     "output_type": "stream",
     "text": [
      "F413F 1317_1318EE>DK E348K\n",
      "193_194DY>EN\n"
     ]
    },
    {
     "name": "stderr",
     "output_type": "stream",
     "text": [
      "100%|██████████| 2546/2546 [00:08<00:00, 295.97it/s]"
     ]
    },
    {
     "name": "stdout",
     "output_type": "stream",
     "text": [
      "test data에 slice가 포함 된 값의 수 : 40\n"
     ]
    },
    {
     "name": "stderr",
     "output_type": "stream",
     "text": [
      "\n"
     ]
    }
   ],
   "source": [
    "t_positions_with_a = []\n",
    "\n",
    "# 열을 반복하며 'X' 포함 여부 확인 및 대체\n",
    "for row_idx, row in enumerate(tqdm(test[test.columns[1:]].values)):  # ID, CLASS 제외\n",
    "    for col_idx, value in enumerate(row):\n",
    "        if '>' in str(value):  # 'X'가 포함된 경우\n",
    "            # 위치 추가\n",
    "            t_positions_with_a.append((row_idx, train.columns[col_idx + 1]))  # (행 인덱스, 열 이름)\n",
    "            print(test.iloc[row_idx, col_idx + 1])\n",
    "print(f\"test data에 slice가 포함 된 값의 수 : {len(t_positions_with_a)}\")"
   ]
  },
  {
   "cell_type": "markdown",
   "metadata": {},
   "source": [
    "\\> 경우 연속적인 돌연변이를 표현한 것이므로 유지"
   ]
  },
  {
   "cell_type": "markdown",
   "metadata": {},
   "source": [
    "# 전처리한 데이터 저장"
   ]
  },
  {
   "cell_type": "code",
   "execution_count": null,
   "metadata": {},
   "outputs": [],
   "source": [
    "train.to_csv('../train_data/train_preprocessing.csv')\n",
    "test.to_csv('../train_data/test_preprocessing.csv')"
   ]
  }
 ],
 "metadata": {
  "kernelspec": {
   "display_name": "Python 3",
   "language": "python",
   "name": "python3"
  },
  "language_info": {
   "codemirror_mode": {
    "name": "ipython",
    "version": 3
   },
   "file_extension": ".py",
   "mimetype": "text/x-python",
   "name": "python",
   "nbconvert_exporter": "python",
   "pygments_lexer": "ipython3",
   "version": "3.11.6"
  }
 },
 "nbformat": 4,
 "nbformat_minor": 2
}
