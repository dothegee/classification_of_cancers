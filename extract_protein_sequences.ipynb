{
 "cells": [
  {
   "cell_type": "code",
   "execution_count": 1,
   "metadata": {},
   "outputs": [],
   "source": [
    "from Bio import Entrez, SeqIO\n",
    "from tqdm import tqdm\n",
    "import pandas as pd\n",
    "import time"
   ]
  },
  {
   "cell_type": "code",
   "execution_count": null,
   "metadata": {},
   "outputs": [],
   "source": [
    "Entrez.email = \"your_email@example.com\""
   ]
  },
  {
   "cell_type": "markdown",
   "metadata": {},
   "source": [
    "# 개별 검색"
   ]
  },
  {
   "cell_type": "code",
   "execution_count": 12,
   "metadata": {},
   "outputs": [],
   "source": [
    "data = pd.read_csv(\"../train_data/merge_train_preprocess_refine_columns.csv\")"
   ]
  },
  {
   "cell_type": "code",
   "execution_count": 9,
   "metadata": {},
   "outputs": [
    {
     "name": "stdout",
     "output_type": "stream",
     "text": [
      "Found Protein ID: 2813727314\n",
      "Protein Name: BRCA2\n",
      "Description: XP_068818217.1 lys-63-specific deubiquitinase BRCC36 [Capricornis sumatraensis]\n",
      "Sequence: MAVQVVQAVQAVHLESDAFLVCLNHALSTEKEEVMGLCIGELNDDLRNDPKFTYTGTEMRTVAEKVDTVRIVHIHSVIILRRSDKRKDRVEISPEQLSAASTEAERLAELTGRPMRVVGWYHSHPHITVWPSHVDVRTQAMYQMMDQGFVGLIFSCFIEDKNTKTGRVLYTCFQSIQAQKSSESPRGPRDFWSSSQHISIEGQKEEERYERIEIPIHIVPHVTIGKVCLESAVELPKILCQEEQDAYRRIHSLTHLDSVTKIHNGSVFTKNLCSQMSAVSGPLLQWLEDRLEQNQQHVQELQQEKEELLQELSSLE\n"
     ]
    }
   ],
   "source": [
    "# 검색할 단백질 이름을 입력합니다\n",
    "protein_name = \"BRCA2\"\n",
    "# Step 1: 단백질 이름으로 NCBI protein 데이터베이스 검색\n",
    "try:\n",
    "    handle = Entrez.esearch(db=\"protein\", term=protein_name, retmax=1)\n",
    "    record = Entrez.read(handle)\n",
    "    protein_ids = record[\"IdList\"]\n",
    "\n",
    "    # 단백질 ID가 존재할 경우에만 서열을 가져옵니다\n",
    "    if protein_ids:\n",
    "        protein_id = protein_ids[0]\n",
    "        print(f\"Found Protein ID: {protein_id}\")\n",
    "        \n",
    "        # Step 2: 단백질 서열 가져오기\n",
    "        handle = Entrez.efetch(db=\"protein\", id=protein_id, rettype=\"fasta\", retmode=\"text\")\n",
    "        seq_record = SeqIO.read(handle, \"fasta\")\n",
    "        \n",
    "        # 단백질 서열 출력\n",
    "        print(\"Protein Name:\", protein_name)\n",
    "        print(\"Description:\", seq_record.description)\n",
    "        print(\"Sequence:\", seq_record.seq)\n",
    "    else:\n",
    "        print(\"No protein found with the given name.\")\n",
    "except Exception as e:\n",
    "    print(f\"An error occurred: {e}\")\n"
   ]
  },
  {
   "cell_type": "markdown",
   "metadata": {},
   "source": [
    "# refine_col로 추출"
   ]
  },
  {
   "cell_type": "code",
   "execution_count": null,
   "metadata": {},
   "outputs": [
    {
     "name": "stderr",
     "output_type": "stream",
     "text": [
      "  0%|          | 0/148 [00:00<?, ?it/s]"
     ]
    },
    {
     "name": "stderr",
     "output_type": "stream",
     "text": [
      " 81%|████████  | 120/148 [10:26<01:32,  3.32s/it]"
     ]
    }
   ],
   "source": [
    "# 단백질 이름 컬럼들을 추출\n",
    "protein_columns = data.columns[2:]  # ID와 SUBCLASS 열 제외\n",
    "\n",
    "# 단백질 서열을 저장할 딕셔너리 생성\n",
    "protein_sequences = {protein: [] for protein in protein_columns}\n",
    "non_seq = []\n",
    "# 각 단백질에 대해 NCBI에서 서열 검색 후 딕셔너리에 추가\n",
    "for protein in tqdm(protein_columns):\n",
    "    try:\n",
    "        # NCBI protein 데이터베이스에서 검색\n",
    "        handle = Entrez.esearch(db=\"protein\", term=protein, retmax=1)\n",
    "        record = Entrez.read(handle)\n",
    "        protein_ids = record[\"IdList\"]\n",
    "\n",
    "        # 단백질 ID가 존재하는 경우 서열 가져오기\n",
    "        if protein_ids:\n",
    "            protein_id = protein_ids[0]\n",
    "            handle = Entrez.efetch(db=\"protein\", id=protein_id, rettype=\"fasta\", retmode=\"text\")\n",
    "            seq_record = SeqIO.read(handle, \"fasta\")\n",
    "            protein_sequences[protein] = seq_record.seq\n",
    "        else:\n",
    "            protein_sequences[protein] = None\n",
    "            print(f\"{protein}은 서열 정보가 없습니다.\")\n",
    "            non_seq.append(protein)\n",
    "\n",
    "        # 너무 많은 요청을 보내지 않도록 잠시 대기\n",
    "        time.sleep(1)\n",
    "    except Exception as e:\n",
    "        protein_sequences[protein] = None\n",
    "        print(f\"Error fetching sequence for {protein}: {e}\")\n",
    "\n"
   ]
  },
  {
   "cell_type": "code",
   "execution_count": null,
   "metadata": {},
   "outputs": [],
   "source": [
    "# DataFrame에 단백질 서열 추가\n",
    "df_sample = pd.DataFrame([data])\n",
    "df_sample.head()"
   ]
  },
  {
   "cell_type": "code",
   "execution_count": null,
   "metadata": {},
   "outputs": [],
   "source": [
    "# 최종 결과를 CSV 파일로 저장\n",
    "df_sample.to_csv('../train_data/protein_sequences_output_sample_refine_col.csv', index=False)\n"
   ]
  },
  {
   "cell_type": "markdown",
   "metadata": {},
   "source": [
    "# 전체 col로 추출"
   ]
  },
  {
   "cell_type": "code",
   "execution_count": null,
   "metadata": {},
   "outputs": [],
   "source": [
    "train = pd.read_csv(\"../train_data/train.csv\")"
   ]
  },
  {
   "cell_type": "code",
   "execution_count": null,
   "metadata": {},
   "outputs": [],
   "source": [
    "# 단백질 이름 컬럼들을 추출\n",
    "protein_columns = data.columns[2:]  # ID와 SUBCLASS 열 제외\n",
    "\n",
    "# 단백질 서열을 저장할 딕셔너리 생성\n",
    "protein_sequences = {protein: [] for protein in protein_columns}\n",
    "non_seq = []\n",
    "# 각 단백질에 대해 NCBI에서 서열 검색 후 딕셔너리에 추가\n",
    "for protein in tqdm(protein_columns):\n",
    "    try:\n",
    "        # NCBI protein 데이터베이스에서 검색\n",
    "        handle = Entrez.esearch(db=\"protein\", term=protein, retmax=1)\n",
    "        record = Entrez.read(handle)\n",
    "        protein_ids = record[\"IdList\"]\n",
    "\n",
    "        # 단백질 ID가 존재하는 경우 서열 가져오기\n",
    "        if protein_ids:\n",
    "            protein_id = protein_ids[0]\n",
    "            handle = Entrez.efetch(db=\"protein\", id=protein_id, rettype=\"fasta\", retmode=\"text\")\n",
    "            seq_record = SeqIO.read(handle, \"fasta\")\n",
    "            protein_sequences[protein] = seq_record.seq\n",
    "        else:\n",
    "            protein_sequences[protein] = None\n",
    "            print(f\"{protein}은 서열 정보가 없습니다.\")\n",
    "            non_seq.append(protein)\n",
    "\n",
    "        # 너무 많은 요청을 보내지 않도록 잠시 대기\n",
    "        time.sleep(1)\n",
    "    except Exception as e:\n",
    "        protein_sequences[protein] = None\n",
    "        print(f\"Error fetching sequence for {protein}: {e}\")\n",
    "\n"
   ]
  },
  {
   "cell_type": "code",
   "execution_count": null,
   "metadata": {},
   "outputs": [],
   "source": [
    "# DataFrame에 단백질 서열 추가\n",
    "df = pd.DataFrame([data])\n",
    "df.head()"
   ]
  },
  {
   "cell_type": "code",
   "execution_count": null,
   "metadata": {},
   "outputs": [],
   "source": [
    "\n",
    "# 최종 결과를 CSV 파일로 저장\n",
    "df.to_csv('../train_data/protein_sequences_output.csv', index=False)"
   ]
  }
 ],
 "metadata": {
  "kernelspec": {
   "display_name": "Python 3",
   "language": "python",
   "name": "python3"
  },
  "language_info": {
   "codemirror_mode": {
    "name": "ipython",
    "version": 3
   },
   "file_extension": ".py",
   "mimetype": "text/x-python",
   "name": "python",
   "nbconvert_exporter": "python",
   "pygments_lexer": "ipython3",
   "version": "3.11.6"
  }
 },
 "nbformat": 4,
 "nbformat_minor": 2
}
