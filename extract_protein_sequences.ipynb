{
 "cells": [
  {
   "cell_type": "code",
   "execution_count": null,
   "metadata": {},
   "outputs": [],
   "source": [
    "# !pip install biopython"
   ]
  },
  {
   "cell_type": "code",
   "execution_count": 2,
   "metadata": {},
   "outputs": [],
   "source": [
    "from Bio import Entrez, SeqIO\n",
    "from tqdm import tqdm\n",
    "import pandas as pd\n",
    "import time"
   ]
  },
  {
   "cell_type": "code",
   "execution_count": 8,
   "metadata": {},
   "outputs": [],
   "source": [
    "Entrez.email = \"your_email@example.com\""
   ]
  },
  {
   "cell_type": "code",
   "execution_count": 3,
   "metadata": {},
   "outputs": [],
   "source": [
    "data = pd.read_csv(\"../train_data/merge_train_preprocess_refine_columns.csv\")"
   ]
  },
  {
   "cell_type": "markdown",
   "metadata": {},
   "source": [
    "# 개별 검색"
   ]
  },
  {
   "cell_type": "code",
   "execution_count": 32,
   "metadata": {},
   "outputs": [
    {
     "data": {
      "text/plain": [
       "Index(['SUBCLASS', 'ID', 'BRCA1', 'HMGB3', 'PLXNB2', 'NOTCH2', 'RYR2', 'ALB',\n",
       "       'BTG1', 'SMC1A',\n",
       "       ...\n",
       "       'PEX6', 'B2M', 'MYLK', 'BTG2', 'CACNA1B', 'PABPC1', 'FGFR3', 'CLIP2',\n",
       "       'CDH1', 'HELZ2'],\n",
       "      dtype='object', length=150)"
      ]
     },
     "execution_count": 32,
     "metadata": {},
     "output_type": "execute_result"
    }
   ],
   "source": [
    "data.columns"
   ]
  },
  {
   "cell_type": "code",
   "execution_count": 43,
   "metadata": {},
   "outputs": [],
   "source": [
    "# 검색할 단백질 이름을 입력합니다\n",
    "protein_name = \"BRCA1\""
   ]
  },
  {
   "cell_type": "code",
   "execution_count": 48,
   "metadata": {},
   "outputs": [],
   "source": [
    "search_query = f\"{protein_name}[gene] AND Homo sapiens[organism] AND srcdb_refseq[properties]\""
   ]
  },
  {
   "cell_type": "code",
   "execution_count": 49,
   "metadata": {},
   "outputs": [
    {
     "name": "stdout",
     "output_type": "stream",
     "text": [
      "No protein found with the given name.\n"
     ]
    }
   ],
   "source": [
    "# Step 1: 단백질 이름으로 NCBI protein 데이터베이스 검색\n",
    "try:\n",
    "    handle = Entrez.esearch(db=\"protein\", term=search_query, retmax=1)\n",
    "    record = Entrez.read(handle)\n",
    "    protein_ids = record[\"IdList\"]\n",
    "\n",
    "    # 단백질 ID가 존재할 경우에만 서열을 가져옵니다\n",
    "    if protein_ids:\n",
    "        protein_id = protein_ids[0]\n",
    "        print(f\"Found Protein ID: {protein_id}\")\n",
    "        \n",
    "        # Step 2: 단백질 서열 가져오기\n",
    "        handle = Entrez.efetch(db=\"protein\", id=protein_id, rettype=\"fasta\", retmode=\"text\")\n",
    "        seq_record = SeqIO.read(handle, \"fasta\")\n",
    "        \n",
    "        # 단백질 서열 출력\n",
    "        print(\"Protein Name:\", protein_name)\n",
    "        print(\"Description:\", seq_record.description)\n",
    "        print(\"Sequence:\", seq_record.seq)\n",
    "        \n",
    "    else:\n",
    "        print(\"No protein found with the given name.\")\n",
    "except Exception as e:\n",
    "    print(f\"An error occurred: {e}\")"
   ]
  },
  {
   "cell_type": "code",
   "execution_count": 42,
   "metadata": {},
   "outputs": [
    {
     "data": {
      "text/plain": [
       "['71143137']"
      ]
     },
     "execution_count": 42,
     "metadata": {},
     "output_type": "execute_result"
    }
   ],
   "source": [
    "protein_ids"
   ]
  },
  {
   "cell_type": "code",
   "execution_count": null,
   "metadata": {},
   "outputs": [],
   "source": [
    "str(seq_record.seq)"
   ]
  },
  {
   "cell_type": "code",
   "execution_count": 23,
   "metadata": {},
   "outputs": [
    {
     "name": "stdout",
     "output_type": "stream",
     "text": [
      "No protein found with the given name.\n"
     ]
    }
   ],
   "source": [
    "\n",
    "# Step 1: 단백질 이름으로 NCBI protein 데이터베이스 검색\n",
    "try:\n",
    "    handle = Entrez.esearch(db=\"protein\", term=search_query, retmax=1)\n",
    "    record = Entrez.read(handle)\n",
    "    protein_ids = record[\"IdList\"]\n",
    "\n",
    "    # 단백질 ID가 존재할 경우에만 서열을 가져옵니다\n",
    "    if protein_ids:\n",
    "        protein_id = protein_ids[0]\n",
    "        print(f\"Found Protein ID: {protein_id}\")\n",
    "        \n",
    "        # Step 2: 단백질 서열 가져오기\n",
    "        handle = Entrez.efetch(db=\"protein\", id=protein_id, rettype=\"fasta\", retmode=\"text\")\n",
    "        seq_record = SeqIO.read(handle, \"fasta\")\n",
    "        \n",
    "        # 단백질 서열 출력\n",
    "        print(\"Protein Name:\", protein_name)\n",
    "        print(\"Description:\", seq_record.description)\n",
    "        print(\"Sequence:\", seq_record.seq)\n",
    "    else:\n",
    "        print(\"No protein found with the given name.\")\n",
    "except Exception as e:\n",
    "    print(f\"An error occurred: {e}\")\n"
   ]
  },
  {
   "cell_type": "code",
   "execution_count": 19,
   "metadata": {},
   "outputs": [
    {
     "name": "stdout",
     "output_type": "stream",
     "text": [
      "Found Protein ID: 2813727314\n",
      "Protein Name: BRCA2\n",
      "Description: XP_068818217.1 lys-63-specific deubiquitinase BRCC36 [Capricornis sumatraensis]\n",
      "Sequence: MAVQVVQAVQAVHLESDAFLVCLNHALSTEKEEVMGLCIGELNDDLRNDPKFTYTGTEMRTVAEKVDTVRIVHIHSVIILRRSDKRKDRVEISPEQLSAASTEAERLAELTGRPMRVVGWYHSHPHITVWPSHVDVRTQAMYQMMDQGFVGLIFSCFIEDKNTKTGRVLYTCFQSIQAQKSSESPRGPRDFWSSSQHISIEGQKEEERYERIEIPIHIVPHVTIGKVCLESAVELPKILCQEEQDAYRRIHSLTHLDSVTKIHNGSVFTKNLCSQMSAVSGPLLQWLEDRLEQNQQHVQELQQEKEELLQELSSLE\n"
     ]
    }
   ],
   "source": [
    "# Step 1: 단백질 이름으로 NCBI protein 데이터베이스 검색\n",
    "try:\n",
    "    handle = Entrez.esearch(db=\"protein\", term=protein_name, retmax=1)\n",
    "    record = Entrez.read(handle)\n",
    "    protein_ids = record[\"IdList\"]\n",
    "\n",
    "    # 단백질 ID가 존재할 경우에만 서열을 가져옵니다\n",
    "    if protein_ids:\n",
    "        protein_id = protein_ids[0]\n",
    "        print(f\"Found Protein ID: {protein_id}\")\n",
    "        \n",
    "        # Step 2: 단백질 서열 가져오기\n",
    "        handle = Entrez.efetch(db=\"protein\", id=protein_id, rettype=\"fasta\", retmode=\"text\")\n",
    "        seq_record = SeqIO.read(handle, \"fasta\")\n",
    "        \n",
    "        # 단백질 서열 출력\n",
    "        print(\"Protein Name:\", protein_name)\n",
    "        print(\"Description:\", seq_record.description)\n",
    "        print(\"Sequence:\", seq_record.seq)\n",
    "    else:\n",
    "        print(\"No protein found with the given name.\")\n",
    "except Exception as e:\n",
    "    print(f\"An error occurred: {e}\")\n"
   ]
  },
  {
   "cell_type": "markdown",
   "metadata": {},
   "source": [
    "# refine_col로 추출"
   ]
  },
  {
   "cell_type": "code",
   "execution_count": 10,
   "metadata": {},
   "outputs": [],
   "source": [
    "import ssl\n",
    "from tqdm import tqdm\n",
    "from Bio import Entrez, SeqIO\n",
    "import time\n",
    "\n",
    "# SSL 인증서 검증 비활성화\n",
    "ssl._create_default_https_context = ssl._create_unverified_context"
   ]
  },
  {
   "cell_type": "code",
   "execution_count": 50,
   "metadata": {},
   "outputs": [
    {
     "name": "stderr",
     "output_type": "stream",
     "text": [
      "100%|██████████| 148/148 [12:56<00:00,  5.25s/it]\n"
     ]
    }
   ],
   "source": [
    "# 단백질 이름 컬럼들을 추출\n",
    "protein_columns = data.columns[2:]  # ID와 SUBCLASS 열 제외\n",
    "\n",
    "# 단백질 서열을 저장할 딕셔너리 생성\n",
    "protein_sequences = {protein: [] for protein in protein_columns}\n",
    "non_seq = []\n",
    "# 각 단백질에 대해 NCBI에서 서열 검색 후 딕셔너리에 추가\n",
    "for protein in tqdm(protein_columns):\n",
    "    search_query = f\"{protein}[gene] AND Homo sapiens[organism] AND srcdb_refseq[properties]\"\n",
    "    try:\n",
    "        # NCBI protein 데이터베이스에서 검색\n",
    "        handle = Entrez.esearch(db=\"protein\", term=search_query, retmax=1)\n",
    "        record = Entrez.read(handle)\n",
    "        protein_ids = record[\"IdList\"]\n",
    "\n",
    "        # 단백질 ID가 존재하는 경우 서열 가져오기\n",
    "        if protein_ids:\n",
    "            protein_id = protein_ids[0]\n",
    "            handle = Entrez.efetch(db=\"protein\", id=protein_id, rettype=\"fasta\", retmode=\"text\")\n",
    "            seq_record = SeqIO.read(handle, \"fasta\")\n",
    "            protein_sequences[protein] = seq_record.seq\n",
    "        else:\n",
    "            protein_sequences[protein] = None\n",
    "            print(f\"{protein}은 서열 정보가 없습니다.\")\n",
    "            non_seq.append(protein)\n",
    "\n",
    "        # 너무 많은 요청을 보내지 않도록 잠시 대기\n",
    "        time.sleep(1)\n",
    "    except Exception as e:\n",
    "        protein_sequences[protein] = None\n",
    "        print(f\"Error fetching sequence for {protein}: {e}\")\n",
    "\n"
   ]
  },
  {
   "cell_type": "code",
   "execution_count": 51,
   "metadata": {},
   "outputs": [
    {
     "data": {
      "text/html": [
       "<div>\n",
       "<style scoped>\n",
       "    .dataframe tbody tr th:only-of-type {\n",
       "        vertical-align: middle;\n",
       "    }\n",
       "\n",
       "    .dataframe tbody tr th {\n",
       "        vertical-align: top;\n",
       "    }\n",
       "\n",
       "    .dataframe thead th {\n",
       "        text-align: right;\n",
       "    }\n",
       "</style>\n",
       "<table border=\"1\" class=\"dataframe\">\n",
       "  <thead>\n",
       "    <tr style=\"text-align: right;\">\n",
       "      <th></th>\n",
       "      <th>BRCA1</th>\n",
       "      <th>HMGB3</th>\n",
       "      <th>PLXNB2</th>\n",
       "      <th>NOTCH2</th>\n",
       "      <th>RYR2</th>\n",
       "      <th>ALB</th>\n",
       "      <th>BTG1</th>\n",
       "      <th>SMC1A</th>\n",
       "      <th>AQP7</th>\n",
       "      <th>PIM1</th>\n",
       "      <th>...</th>\n",
       "      <th>PEX6</th>\n",
       "      <th>B2M</th>\n",
       "      <th>MYLK</th>\n",
       "      <th>BTG2</th>\n",
       "      <th>CACNA1B</th>\n",
       "      <th>PABPC1</th>\n",
       "      <th>FGFR3</th>\n",
       "      <th>CLIP2</th>\n",
       "      <th>CDH1</th>\n",
       "      <th>HELZ2</th>\n",
       "    </tr>\n",
       "  </thead>\n",
       "  <tbody>\n",
       "    <tr>\n",
       "      <th>0</th>\n",
       "      <td>(M, D, L, S, A, L, R, V, E, E, V, Q, N, V, I, ...</td>\n",
       "      <td>(M, A, K, G, D, P, K, K, P, K, G, K, M, S, A, ...</td>\n",
       "      <td>(M, L, L, E, V, S, Y, G, G, S, P, V, P, N, P, ...</td>\n",
       "      <td>(M, P, A, L, R, P, A, L, L, W, A, L, L, A, L, ...</td>\n",
       "      <td>(M, A, D, G, G, E, G, E, D, E, I, Q, F, L, R, ...</td>\n",
       "      <td>(M, K, W, V, T, F, I, S, L, L, F, L, F, S, S, ...</td>\n",
       "      <td>(M, H, P, F, Y, T, R, A, A, T, M, I, G, E, I, ...</td>\n",
       "      <td>(M, L, E, V, S, I, P, T, P, H, R, Y, V, R, G, ...</td>\n",
       "      <td>(M, V, Q, A, S, G, H, R, R, S, T, R, G, S, K, ...</td>\n",
       "      <td>(M, Q, D, L, G, D, K, L, R, M, I, V, M, G, H, ...</td>\n",
       "      <td>...</td>\n",
       "      <td>(M, A, L, A, V, L, R, V, L, E, P, F, P, T, E, ...</td>\n",
       "      <td>(M, S, R, S, V, A, L, A, V, L, A, L, L, S, L, ...</td>\n",
       "      <td>(M, G, D, V, K, L, V, A, S, S, H, I, S, K, T, ...</td>\n",
       "      <td>(M, S, H, G, K, G, T, D, M, L, P, E, I, A, A, ...</td>\n",
       "      <td>(M, V, R, F, G, D, E, L, G, G, R, Y, G, G, P, ...</td>\n",
       "      <td>(M, N, P, S, A, P, S, Y, P, M, A, S, L, Y, V, ...</td>\n",
       "      <td>(M, G, A, P, A, C, A, L, A, L, C, V, A, V, A, ...</td>\n",
       "      <td>(M, Q, K, P, S, G, L, K, P, P, G, R, G, G, K, ...</td>\n",
       "      <td>(M, A, L, E, V, G, D, Y, K, I, N, L, K, L, M, ...</td>\n",
       "      <td>(M, A, V, W, E, A, E, Q, L, G, G, L, Q, R, G, ...</td>\n",
       "    </tr>\n",
       "  </tbody>\n",
       "</table>\n",
       "<p>1 rows × 148 columns</p>\n",
       "</div>"
      ],
      "text/plain": [
       "                                               BRCA1  \\\n",
       "0  (M, D, L, S, A, L, R, V, E, E, V, Q, N, V, I, ...   \n",
       "\n",
       "                                               HMGB3  \\\n",
       "0  (M, A, K, G, D, P, K, K, P, K, G, K, M, S, A, ...   \n",
       "\n",
       "                                              PLXNB2  \\\n",
       "0  (M, L, L, E, V, S, Y, G, G, S, P, V, P, N, P, ...   \n",
       "\n",
       "                                              NOTCH2  \\\n",
       "0  (M, P, A, L, R, P, A, L, L, W, A, L, L, A, L, ...   \n",
       "\n",
       "                                                RYR2  \\\n",
       "0  (M, A, D, G, G, E, G, E, D, E, I, Q, F, L, R, ...   \n",
       "\n",
       "                                                 ALB  \\\n",
       "0  (M, K, W, V, T, F, I, S, L, L, F, L, F, S, S, ...   \n",
       "\n",
       "                                                BTG1  \\\n",
       "0  (M, H, P, F, Y, T, R, A, A, T, M, I, G, E, I, ...   \n",
       "\n",
       "                                               SMC1A  \\\n",
       "0  (M, L, E, V, S, I, P, T, P, H, R, Y, V, R, G, ...   \n",
       "\n",
       "                                                AQP7  \\\n",
       "0  (M, V, Q, A, S, G, H, R, R, S, T, R, G, S, K, ...   \n",
       "\n",
       "                                                PIM1  ...  \\\n",
       "0  (M, Q, D, L, G, D, K, L, R, M, I, V, M, G, H, ...  ...   \n",
       "\n",
       "                                                PEX6  \\\n",
       "0  (M, A, L, A, V, L, R, V, L, E, P, F, P, T, E, ...   \n",
       "\n",
       "                                                 B2M  \\\n",
       "0  (M, S, R, S, V, A, L, A, V, L, A, L, L, S, L, ...   \n",
       "\n",
       "                                                MYLK  \\\n",
       "0  (M, G, D, V, K, L, V, A, S, S, H, I, S, K, T, ...   \n",
       "\n",
       "                                                BTG2  \\\n",
       "0  (M, S, H, G, K, G, T, D, M, L, P, E, I, A, A, ...   \n",
       "\n",
       "                                             CACNA1B  \\\n",
       "0  (M, V, R, F, G, D, E, L, G, G, R, Y, G, G, P, ...   \n",
       "\n",
       "                                              PABPC1  \\\n",
       "0  (M, N, P, S, A, P, S, Y, P, M, A, S, L, Y, V, ...   \n",
       "\n",
       "                                               FGFR3  \\\n",
       "0  (M, G, A, P, A, C, A, L, A, L, C, V, A, V, A, ...   \n",
       "\n",
       "                                               CLIP2  \\\n",
       "0  (M, Q, K, P, S, G, L, K, P, P, G, R, G, G, K, ...   \n",
       "\n",
       "                                                CDH1  \\\n",
       "0  (M, A, L, E, V, G, D, Y, K, I, N, L, K, L, M, ...   \n",
       "\n",
       "                                               HELZ2  \n",
       "0  (M, A, V, W, E, A, E, Q, L, G, G, L, Q, R, G, ...  \n",
       "\n",
       "[1 rows x 148 columns]"
      ]
     },
     "execution_count": 51,
     "metadata": {},
     "output_type": "execute_result"
    }
   ],
   "source": [
    "# DataFrame에 단백질 서열 추가\n",
    "df_sample = pd.DataFrame([protein_sequences])\n",
    "df_sample.head()"
   ]
  },
  {
   "cell_type": "code",
   "execution_count": 52,
   "metadata": {},
   "outputs": [],
   "source": [
    "# 최종 결과를 CSV 파일로 저장\n",
    "df_sample.to_csv('../train_data/protein_sequences_output_sample_refine_col.csv', index=False)"
   ]
  },
  {
   "cell_type": "markdown",
   "metadata": {},
   "source": [
    "# 전체 col로 추출"
   ]
  },
  {
   "cell_type": "code",
   "execution_count": 3,
   "metadata": {},
   "outputs": [],
   "source": [
    "train = pd.read_csv(\"../train_data/train.csv\")"
   ]
  },
  {
   "cell_type": "code",
   "execution_count": 55,
   "metadata": {},
   "outputs": [
    {
     "ename": "NameError",
     "evalue": "name 'train' is not defined",
     "output_type": "error",
     "traceback": [
      "\u001b[1;31m---------------------------------------------------------------------------\u001b[0m",
      "\u001b[1;31mNameError\u001b[0m                                 Traceback (most recent call last)",
      "Cell \u001b[1;32mIn[55], line 2\u001b[0m\n\u001b[0;32m      1\u001b[0m \u001b[38;5;66;03m# 단백질 이름 컬럼들을 추출\u001b[39;00m\n\u001b[1;32m----> 2\u001b[0m protein_columns \u001b[38;5;241m=\u001b[39m \u001b[43mtrain\u001b[49m\u001b[38;5;241m.\u001b[39mcolumns[\u001b[38;5;241m2\u001b[39m:]  \u001b[38;5;66;03m# ID와 SUBCLASS 열 제외\u001b[39;00m\n\u001b[0;32m      4\u001b[0m \u001b[38;5;66;03m# 단백질 서열을 저장할 딕셔너리 생성\u001b[39;00m\n\u001b[0;32m      5\u001b[0m protein_sequences \u001b[38;5;241m=\u001b[39m {protein: [] \u001b[38;5;28;01mfor\u001b[39;00m protein \u001b[38;5;129;01min\u001b[39;00m protein_columns}\n",
      "\u001b[1;31mNameError\u001b[0m: name 'train' is not defined"
     ]
    }
   ],
   "source": [
    "# 단백질 이름 컬럼들을 추출\n",
    "protein_columns = train.columns[2:]  # ID와 SUBCLASS 열 제외\n",
    "\n",
    "# 단백질 서열을 저장할 딕셔너리 생성\n",
    "protein_sequences = {protein: [] for protein in protein_columns}\n",
    "non_seq = []\n",
    "# 각 단백질에 대해 NCBI에서 서열 검색 후 딕셔너리에 추가\n",
    "for protein in tqdm(protein_columns):\n",
    "    try:\n",
    "        # NCBI protein 데이터베이스에서 검색\n",
    "        handle = Entrez.esearch(db=\"protein\", term=protein, retmax=1)\n",
    "        record = Entrez.read(handle)\n",
    "        protein_ids = record[\"IdList\"]\n",
    "\n",
    "        # 단백질 ID가 존재하는 경우 서열 가져오기\n",
    "        if protein_ids:\n",
    "            protein_id = protein_ids[0]\n",
    "            handle = Entrez.efetch(db=\"protein\", id=protein_id, rettype=\"fasta\", retmode=\"text\")\n",
    "            seq_record = SeqIO.read(handle, \"fasta\")\n",
    "            protein_sequences[protein] = seq_record.seq\n",
    "        else:\n",
    "            protein_sequences[protein] = None\n",
    "            print(f\"{protein}은 서열 정보가 없습니다.\")\n",
    "            non_seq.append(protein)\n",
    "\n",
    "        # 너무 많은 요청을 보내지 않도록 잠시 대기\n",
    "        time.sleep(1)\n",
    "    except Exception as e:\n",
    "        protein_sequences[protein] = None\n",
    "        print(f\"Error fetching sequence for {protein}: {e}\")\n",
    "\n"
   ]
  },
  {
   "cell_type": "code",
   "execution_count": null,
   "metadata": {},
   "outputs": [],
   "source": [
    "# DataFrame에 단백질 서열 추가\n",
    "df = pd.DataFrame([protein_sequences])\n",
    "df.head()"
   ]
  },
  {
   "cell_type": "code",
   "execution_count": null,
   "metadata": {},
   "outputs": [],
   "source": [
    "\n",
    "# 최종 결과를 CSV 파일로 저장\n",
    "df.to_csv('../train_data/protein_sequences_output.csv', index=False)"
   ]
  },
  {
   "cell_type": "markdown",
   "metadata": {},
   "source": [
    "# Uniprot DB 이용"
   ]
  },
  {
   "cell_type": "code",
   "execution_count": 4,
   "metadata": {},
   "outputs": [],
   "source": [
    "def extract_sequence(fasta_data):\n",
    "    lines = fasta_data.strip().split(\"\\n\")\n",
    "    sequence = []\n",
    "    \n",
    "    # 헤더 줄을 제외하고 아미노산 서열을 리스트에 추가\n",
    "    for line in lines:\n",
    "        if not line.startswith(\">\"):  # 헤더 줄 무시\n",
    "            sequence.append(line.strip())\n",
    "    \n",
    "    # 모든 아미노산 서열을 하나의 문자열로 결합\n",
    "    return \"\".join(sequence)\n",
    "\n"
   ]
  },
  {
   "cell_type": "code",
   "execution_count": 5,
   "metadata": {},
   "outputs": [],
   "source": [
    "data = train.copy()"
   ]
  },
  {
   "cell_type": "code",
   "execution_count": 6,
   "metadata": {},
   "outputs": [
    {
     "name": "stderr",
     "output_type": "stream",
     "text": [
      " 41%|████▏     | 1815/4384 [41:51<59:15,  1.38s/it]  \n"
     ]
    },
    {
     "ename": "ConnectionError",
     "evalue": "('Connection aborted.', RemoteDisconnected('Remote end closed connection without response'))",
     "output_type": "error",
     "traceback": [
      "\u001b[1;31m---------------------------------------------------------------------------\u001b[0m",
      "\u001b[1;31mRemoteDisconnected\u001b[0m                        Traceback (most recent call last)",
      "File \u001b[1;32mc:\\Python311\\Lib\\site-packages\\urllib3\\connectionpool.py:789\u001b[0m, in \u001b[0;36mHTTPConnectionPool.urlopen\u001b[1;34m(self, method, url, body, headers, retries, redirect, assert_same_host, timeout, pool_timeout, release_conn, chunked, body_pos, preload_content, decode_content, **response_kw)\u001b[0m\n\u001b[0;32m    788\u001b[0m \u001b[38;5;66;03m# Make the request on the HTTPConnection object\u001b[39;00m\n\u001b[1;32m--> 789\u001b[0m response \u001b[38;5;241m=\u001b[39m \u001b[38;5;28;43mself\u001b[39;49m\u001b[38;5;241;43m.\u001b[39;49m\u001b[43m_make_request\u001b[49m\u001b[43m(\u001b[49m\n\u001b[0;32m    790\u001b[0m \u001b[43m    \u001b[49m\u001b[43mconn\u001b[49m\u001b[43m,\u001b[49m\n\u001b[0;32m    791\u001b[0m \u001b[43m    \u001b[49m\u001b[43mmethod\u001b[49m\u001b[43m,\u001b[49m\n\u001b[0;32m    792\u001b[0m \u001b[43m    \u001b[49m\u001b[43murl\u001b[49m\u001b[43m,\u001b[49m\n\u001b[0;32m    793\u001b[0m \u001b[43m    \u001b[49m\u001b[43mtimeout\u001b[49m\u001b[38;5;241;43m=\u001b[39;49m\u001b[43mtimeout_obj\u001b[49m\u001b[43m,\u001b[49m\n\u001b[0;32m    794\u001b[0m \u001b[43m    \u001b[49m\u001b[43mbody\u001b[49m\u001b[38;5;241;43m=\u001b[39;49m\u001b[43mbody\u001b[49m\u001b[43m,\u001b[49m\n\u001b[0;32m    795\u001b[0m \u001b[43m    \u001b[49m\u001b[43mheaders\u001b[49m\u001b[38;5;241;43m=\u001b[39;49m\u001b[43mheaders\u001b[49m\u001b[43m,\u001b[49m\n\u001b[0;32m    796\u001b[0m \u001b[43m    \u001b[49m\u001b[43mchunked\u001b[49m\u001b[38;5;241;43m=\u001b[39;49m\u001b[43mchunked\u001b[49m\u001b[43m,\u001b[49m\n\u001b[0;32m    797\u001b[0m \u001b[43m    \u001b[49m\u001b[43mretries\u001b[49m\u001b[38;5;241;43m=\u001b[39;49m\u001b[43mretries\u001b[49m\u001b[43m,\u001b[49m\n\u001b[0;32m    798\u001b[0m \u001b[43m    \u001b[49m\u001b[43mresponse_conn\u001b[49m\u001b[38;5;241;43m=\u001b[39;49m\u001b[43mresponse_conn\u001b[49m\u001b[43m,\u001b[49m\n\u001b[0;32m    799\u001b[0m \u001b[43m    \u001b[49m\u001b[43mpreload_content\u001b[49m\u001b[38;5;241;43m=\u001b[39;49m\u001b[43mpreload_content\u001b[49m\u001b[43m,\u001b[49m\n\u001b[0;32m    800\u001b[0m \u001b[43m    \u001b[49m\u001b[43mdecode_content\u001b[49m\u001b[38;5;241;43m=\u001b[39;49m\u001b[43mdecode_content\u001b[49m\u001b[43m,\u001b[49m\n\u001b[0;32m    801\u001b[0m \u001b[43m    \u001b[49m\u001b[38;5;241;43m*\u001b[39;49m\u001b[38;5;241;43m*\u001b[39;49m\u001b[43mresponse_kw\u001b[49m\u001b[43m,\u001b[49m\n\u001b[0;32m    802\u001b[0m \u001b[43m\u001b[49m\u001b[43m)\u001b[49m\n\u001b[0;32m    804\u001b[0m \u001b[38;5;66;03m# Everything went great!\u001b[39;00m\n",
      "File \u001b[1;32mc:\\Python311\\Lib\\site-packages\\urllib3\\connectionpool.py:536\u001b[0m, in \u001b[0;36mHTTPConnectionPool._make_request\u001b[1;34m(self, conn, method, url, body, headers, retries, timeout, chunked, response_conn, preload_content, decode_content, enforce_content_length)\u001b[0m\n\u001b[0;32m    535\u001b[0m \u001b[38;5;28;01mtry\u001b[39;00m:\n\u001b[1;32m--> 536\u001b[0m     response \u001b[38;5;241m=\u001b[39m \u001b[43mconn\u001b[49m\u001b[38;5;241;43m.\u001b[39;49m\u001b[43mgetresponse\u001b[49m\u001b[43m(\u001b[49m\u001b[43m)\u001b[49m\n\u001b[0;32m    537\u001b[0m \u001b[38;5;28;01mexcept\u001b[39;00m (BaseSSLError, \u001b[38;5;167;01mOSError\u001b[39;00m) \u001b[38;5;28;01mas\u001b[39;00m e:\n",
      "File \u001b[1;32mc:\\Python311\\Lib\\site-packages\\urllib3\\connection.py:507\u001b[0m, in \u001b[0;36mHTTPConnection.getresponse\u001b[1;34m(self)\u001b[0m\n\u001b[0;32m    506\u001b[0m \u001b[38;5;66;03m# Get the response from http.client.HTTPConnection\u001b[39;00m\n\u001b[1;32m--> 507\u001b[0m httplib_response \u001b[38;5;241m=\u001b[39m \u001b[38;5;28;43msuper\u001b[39;49m\u001b[43m(\u001b[49m\u001b[43m)\u001b[49m\u001b[38;5;241;43m.\u001b[39;49m\u001b[43mgetresponse\u001b[49m\u001b[43m(\u001b[49m\u001b[43m)\u001b[49m\n\u001b[0;32m    509\u001b[0m \u001b[38;5;28;01mtry\u001b[39;00m:\n",
      "File \u001b[1;32mc:\\Python311\\Lib\\http\\client.py:1378\u001b[0m, in \u001b[0;36mHTTPConnection.getresponse\u001b[1;34m(self)\u001b[0m\n\u001b[0;32m   1377\u001b[0m \u001b[38;5;28;01mtry\u001b[39;00m:\n\u001b[1;32m-> 1378\u001b[0m     \u001b[43mresponse\u001b[49m\u001b[38;5;241;43m.\u001b[39;49m\u001b[43mbegin\u001b[49m\u001b[43m(\u001b[49m\u001b[43m)\u001b[49m\n\u001b[0;32m   1379\u001b[0m \u001b[38;5;28;01mexcept\u001b[39;00m \u001b[38;5;167;01mConnectionError\u001b[39;00m:\n",
      "File \u001b[1;32mc:\\Python311\\Lib\\http\\client.py:318\u001b[0m, in \u001b[0;36mHTTPResponse.begin\u001b[1;34m(self)\u001b[0m\n\u001b[0;32m    317\u001b[0m \u001b[38;5;28;01mwhile\u001b[39;00m \u001b[38;5;28;01mTrue\u001b[39;00m:\n\u001b[1;32m--> 318\u001b[0m     version, status, reason \u001b[38;5;241m=\u001b[39m \u001b[38;5;28;43mself\u001b[39;49m\u001b[38;5;241;43m.\u001b[39;49m\u001b[43m_read_status\u001b[49m\u001b[43m(\u001b[49m\u001b[43m)\u001b[49m\n\u001b[0;32m    319\u001b[0m     \u001b[38;5;28;01mif\u001b[39;00m status \u001b[38;5;241m!=\u001b[39m CONTINUE:\n",
      "File \u001b[1;32mc:\\Python311\\Lib\\http\\client.py:287\u001b[0m, in \u001b[0;36mHTTPResponse._read_status\u001b[1;34m(self)\u001b[0m\n\u001b[0;32m    284\u001b[0m \u001b[38;5;28;01mif\u001b[39;00m \u001b[38;5;129;01mnot\u001b[39;00m line:\n\u001b[0;32m    285\u001b[0m     \u001b[38;5;66;03m# Presumably, the server closed the connection before\u001b[39;00m\n\u001b[0;32m    286\u001b[0m     \u001b[38;5;66;03m# sending a valid response.\u001b[39;00m\n\u001b[1;32m--> 287\u001b[0m     \u001b[38;5;28;01mraise\u001b[39;00m RemoteDisconnected(\u001b[38;5;124m\"\u001b[39m\u001b[38;5;124mRemote end closed connection without\u001b[39m\u001b[38;5;124m\"\u001b[39m\n\u001b[0;32m    288\u001b[0m                              \u001b[38;5;124m\"\u001b[39m\u001b[38;5;124m response\u001b[39m\u001b[38;5;124m\"\u001b[39m)\n\u001b[0;32m    289\u001b[0m \u001b[38;5;28;01mtry\u001b[39;00m:\n",
      "\u001b[1;31mRemoteDisconnected\u001b[0m: Remote end closed connection without response",
      "\nDuring handling of the above exception, another exception occurred:\n",
      "\u001b[1;31mProtocolError\u001b[0m                             Traceback (most recent call last)",
      "File \u001b[1;32mc:\\Python311\\Lib\\site-packages\\requests\\adapters.py:667\u001b[0m, in \u001b[0;36mHTTPAdapter.send\u001b[1;34m(self, request, stream, timeout, verify, cert, proxies)\u001b[0m\n\u001b[0;32m    666\u001b[0m \u001b[38;5;28;01mtry\u001b[39;00m:\n\u001b[1;32m--> 667\u001b[0m     resp \u001b[38;5;241m=\u001b[39m \u001b[43mconn\u001b[49m\u001b[38;5;241;43m.\u001b[39;49m\u001b[43murlopen\u001b[49m\u001b[43m(\u001b[49m\n\u001b[0;32m    668\u001b[0m \u001b[43m        \u001b[49m\u001b[43mmethod\u001b[49m\u001b[38;5;241;43m=\u001b[39;49m\u001b[43mrequest\u001b[49m\u001b[38;5;241;43m.\u001b[39;49m\u001b[43mmethod\u001b[49m\u001b[43m,\u001b[49m\n\u001b[0;32m    669\u001b[0m \u001b[43m        \u001b[49m\u001b[43murl\u001b[49m\u001b[38;5;241;43m=\u001b[39;49m\u001b[43murl\u001b[49m\u001b[43m,\u001b[49m\n\u001b[0;32m    670\u001b[0m \u001b[43m        \u001b[49m\u001b[43mbody\u001b[49m\u001b[38;5;241;43m=\u001b[39;49m\u001b[43mrequest\u001b[49m\u001b[38;5;241;43m.\u001b[39;49m\u001b[43mbody\u001b[49m\u001b[43m,\u001b[49m\n\u001b[0;32m    671\u001b[0m \u001b[43m        \u001b[49m\u001b[43mheaders\u001b[49m\u001b[38;5;241;43m=\u001b[39;49m\u001b[43mrequest\u001b[49m\u001b[38;5;241;43m.\u001b[39;49m\u001b[43mheaders\u001b[49m\u001b[43m,\u001b[49m\n\u001b[0;32m    672\u001b[0m \u001b[43m        \u001b[49m\u001b[43mredirect\u001b[49m\u001b[38;5;241;43m=\u001b[39;49m\u001b[38;5;28;43;01mFalse\u001b[39;49;00m\u001b[43m,\u001b[49m\n\u001b[0;32m    673\u001b[0m \u001b[43m        \u001b[49m\u001b[43massert_same_host\u001b[49m\u001b[38;5;241;43m=\u001b[39;49m\u001b[38;5;28;43;01mFalse\u001b[39;49;00m\u001b[43m,\u001b[49m\n\u001b[0;32m    674\u001b[0m \u001b[43m        \u001b[49m\u001b[43mpreload_content\u001b[49m\u001b[38;5;241;43m=\u001b[39;49m\u001b[38;5;28;43;01mFalse\u001b[39;49;00m\u001b[43m,\u001b[49m\n\u001b[0;32m    675\u001b[0m \u001b[43m        \u001b[49m\u001b[43mdecode_content\u001b[49m\u001b[38;5;241;43m=\u001b[39;49m\u001b[38;5;28;43;01mFalse\u001b[39;49;00m\u001b[43m,\u001b[49m\n\u001b[0;32m    676\u001b[0m \u001b[43m        \u001b[49m\u001b[43mretries\u001b[49m\u001b[38;5;241;43m=\u001b[39;49m\u001b[38;5;28;43mself\u001b[39;49m\u001b[38;5;241;43m.\u001b[39;49m\u001b[43mmax_retries\u001b[49m\u001b[43m,\u001b[49m\n\u001b[0;32m    677\u001b[0m \u001b[43m        \u001b[49m\u001b[43mtimeout\u001b[49m\u001b[38;5;241;43m=\u001b[39;49m\u001b[43mtimeout\u001b[49m\u001b[43m,\u001b[49m\n\u001b[0;32m    678\u001b[0m \u001b[43m        \u001b[49m\u001b[43mchunked\u001b[49m\u001b[38;5;241;43m=\u001b[39;49m\u001b[43mchunked\u001b[49m\u001b[43m,\u001b[49m\n\u001b[0;32m    679\u001b[0m \u001b[43m    \u001b[49m\u001b[43m)\u001b[49m\n\u001b[0;32m    681\u001b[0m \u001b[38;5;28;01mexcept\u001b[39;00m (ProtocolError, \u001b[38;5;167;01mOSError\u001b[39;00m) \u001b[38;5;28;01mas\u001b[39;00m err:\n",
      "File \u001b[1;32mc:\\Python311\\Lib\\site-packages\\urllib3\\connectionpool.py:843\u001b[0m, in \u001b[0;36mHTTPConnectionPool.urlopen\u001b[1;34m(self, method, url, body, headers, retries, redirect, assert_same_host, timeout, pool_timeout, release_conn, chunked, body_pos, preload_content, decode_content, **response_kw)\u001b[0m\n\u001b[0;32m    841\u001b[0m     new_e \u001b[38;5;241m=\u001b[39m ProtocolError(\u001b[38;5;124m\"\u001b[39m\u001b[38;5;124mConnection aborted.\u001b[39m\u001b[38;5;124m\"\u001b[39m, new_e)\n\u001b[1;32m--> 843\u001b[0m retries \u001b[38;5;241m=\u001b[39m \u001b[43mretries\u001b[49m\u001b[38;5;241;43m.\u001b[39;49m\u001b[43mincrement\u001b[49m\u001b[43m(\u001b[49m\n\u001b[0;32m    844\u001b[0m \u001b[43m    \u001b[49m\u001b[43mmethod\u001b[49m\u001b[43m,\u001b[49m\u001b[43m \u001b[49m\u001b[43murl\u001b[49m\u001b[43m,\u001b[49m\u001b[43m \u001b[49m\u001b[43merror\u001b[49m\u001b[38;5;241;43m=\u001b[39;49m\u001b[43mnew_e\u001b[49m\u001b[43m,\u001b[49m\u001b[43m \u001b[49m\u001b[43m_pool\u001b[49m\u001b[38;5;241;43m=\u001b[39;49m\u001b[38;5;28;43mself\u001b[39;49m\u001b[43m,\u001b[49m\u001b[43m \u001b[49m\u001b[43m_stacktrace\u001b[49m\u001b[38;5;241;43m=\u001b[39;49m\u001b[43msys\u001b[49m\u001b[38;5;241;43m.\u001b[39;49m\u001b[43mexc_info\u001b[49m\u001b[43m(\u001b[49m\u001b[43m)\u001b[49m\u001b[43m[\u001b[49m\u001b[38;5;241;43m2\u001b[39;49m\u001b[43m]\u001b[49m\n\u001b[0;32m    845\u001b[0m \u001b[43m\u001b[49m\u001b[43m)\u001b[49m\n\u001b[0;32m    846\u001b[0m retries\u001b[38;5;241m.\u001b[39msleep()\n",
      "File \u001b[1;32mc:\\Python311\\Lib\\site-packages\\urllib3\\util\\retry.py:474\u001b[0m, in \u001b[0;36mRetry.increment\u001b[1;34m(self, method, url, response, error, _pool, _stacktrace)\u001b[0m\n\u001b[0;32m    473\u001b[0m \u001b[38;5;28;01mif\u001b[39;00m read \u001b[38;5;129;01mis\u001b[39;00m \u001b[38;5;28;01mFalse\u001b[39;00m \u001b[38;5;129;01mor\u001b[39;00m method \u001b[38;5;129;01mis\u001b[39;00m \u001b[38;5;28;01mNone\u001b[39;00m \u001b[38;5;129;01mor\u001b[39;00m \u001b[38;5;129;01mnot\u001b[39;00m \u001b[38;5;28mself\u001b[39m\u001b[38;5;241m.\u001b[39m_is_method_retryable(method):\n\u001b[1;32m--> 474\u001b[0m     \u001b[38;5;28;01mraise\u001b[39;00m \u001b[43mreraise\u001b[49m\u001b[43m(\u001b[49m\u001b[38;5;28;43mtype\u001b[39;49m\u001b[43m(\u001b[49m\u001b[43merror\u001b[49m\u001b[43m)\u001b[49m\u001b[43m,\u001b[49m\u001b[43m \u001b[49m\u001b[43merror\u001b[49m\u001b[43m,\u001b[49m\u001b[43m \u001b[49m\u001b[43m_stacktrace\u001b[49m\u001b[43m)\u001b[49m\n\u001b[0;32m    475\u001b[0m \u001b[38;5;28;01melif\u001b[39;00m read \u001b[38;5;129;01mis\u001b[39;00m \u001b[38;5;129;01mnot\u001b[39;00m \u001b[38;5;28;01mNone\u001b[39;00m:\n",
      "File \u001b[1;32mc:\\Python311\\Lib\\site-packages\\urllib3\\util\\util.py:38\u001b[0m, in \u001b[0;36mreraise\u001b[1;34m(tp, value, tb)\u001b[0m\n\u001b[0;32m     37\u001b[0m \u001b[38;5;28;01mif\u001b[39;00m value\u001b[38;5;241m.\u001b[39m__traceback__ \u001b[38;5;129;01mis\u001b[39;00m \u001b[38;5;129;01mnot\u001b[39;00m tb:\n\u001b[1;32m---> 38\u001b[0m     \u001b[38;5;28;01mraise\u001b[39;00m value\u001b[38;5;241m.\u001b[39mwith_traceback(tb)\n\u001b[0;32m     39\u001b[0m \u001b[38;5;28;01mraise\u001b[39;00m value\n",
      "File \u001b[1;32mc:\\Python311\\Lib\\site-packages\\urllib3\\connectionpool.py:789\u001b[0m, in \u001b[0;36mHTTPConnectionPool.urlopen\u001b[1;34m(self, method, url, body, headers, retries, redirect, assert_same_host, timeout, pool_timeout, release_conn, chunked, body_pos, preload_content, decode_content, **response_kw)\u001b[0m\n\u001b[0;32m    788\u001b[0m \u001b[38;5;66;03m# Make the request on the HTTPConnection object\u001b[39;00m\n\u001b[1;32m--> 789\u001b[0m response \u001b[38;5;241m=\u001b[39m \u001b[38;5;28;43mself\u001b[39;49m\u001b[38;5;241;43m.\u001b[39;49m\u001b[43m_make_request\u001b[49m\u001b[43m(\u001b[49m\n\u001b[0;32m    790\u001b[0m \u001b[43m    \u001b[49m\u001b[43mconn\u001b[49m\u001b[43m,\u001b[49m\n\u001b[0;32m    791\u001b[0m \u001b[43m    \u001b[49m\u001b[43mmethod\u001b[49m\u001b[43m,\u001b[49m\n\u001b[0;32m    792\u001b[0m \u001b[43m    \u001b[49m\u001b[43murl\u001b[49m\u001b[43m,\u001b[49m\n\u001b[0;32m    793\u001b[0m \u001b[43m    \u001b[49m\u001b[43mtimeout\u001b[49m\u001b[38;5;241;43m=\u001b[39;49m\u001b[43mtimeout_obj\u001b[49m\u001b[43m,\u001b[49m\n\u001b[0;32m    794\u001b[0m \u001b[43m    \u001b[49m\u001b[43mbody\u001b[49m\u001b[38;5;241;43m=\u001b[39;49m\u001b[43mbody\u001b[49m\u001b[43m,\u001b[49m\n\u001b[0;32m    795\u001b[0m \u001b[43m    \u001b[49m\u001b[43mheaders\u001b[49m\u001b[38;5;241;43m=\u001b[39;49m\u001b[43mheaders\u001b[49m\u001b[43m,\u001b[49m\n\u001b[0;32m    796\u001b[0m \u001b[43m    \u001b[49m\u001b[43mchunked\u001b[49m\u001b[38;5;241;43m=\u001b[39;49m\u001b[43mchunked\u001b[49m\u001b[43m,\u001b[49m\n\u001b[0;32m    797\u001b[0m \u001b[43m    \u001b[49m\u001b[43mretries\u001b[49m\u001b[38;5;241;43m=\u001b[39;49m\u001b[43mretries\u001b[49m\u001b[43m,\u001b[49m\n\u001b[0;32m    798\u001b[0m \u001b[43m    \u001b[49m\u001b[43mresponse_conn\u001b[49m\u001b[38;5;241;43m=\u001b[39;49m\u001b[43mresponse_conn\u001b[49m\u001b[43m,\u001b[49m\n\u001b[0;32m    799\u001b[0m \u001b[43m    \u001b[49m\u001b[43mpreload_content\u001b[49m\u001b[38;5;241;43m=\u001b[39;49m\u001b[43mpreload_content\u001b[49m\u001b[43m,\u001b[49m\n\u001b[0;32m    800\u001b[0m \u001b[43m    \u001b[49m\u001b[43mdecode_content\u001b[49m\u001b[38;5;241;43m=\u001b[39;49m\u001b[43mdecode_content\u001b[49m\u001b[43m,\u001b[49m\n\u001b[0;32m    801\u001b[0m \u001b[43m    \u001b[49m\u001b[38;5;241;43m*\u001b[39;49m\u001b[38;5;241;43m*\u001b[39;49m\u001b[43mresponse_kw\u001b[49m\u001b[43m,\u001b[49m\n\u001b[0;32m    802\u001b[0m \u001b[43m\u001b[49m\u001b[43m)\u001b[49m\n\u001b[0;32m    804\u001b[0m \u001b[38;5;66;03m# Everything went great!\u001b[39;00m\n",
      "File \u001b[1;32mc:\\Python311\\Lib\\site-packages\\urllib3\\connectionpool.py:536\u001b[0m, in \u001b[0;36mHTTPConnectionPool._make_request\u001b[1;34m(self, conn, method, url, body, headers, retries, timeout, chunked, response_conn, preload_content, decode_content, enforce_content_length)\u001b[0m\n\u001b[0;32m    535\u001b[0m \u001b[38;5;28;01mtry\u001b[39;00m:\n\u001b[1;32m--> 536\u001b[0m     response \u001b[38;5;241m=\u001b[39m \u001b[43mconn\u001b[49m\u001b[38;5;241;43m.\u001b[39;49m\u001b[43mgetresponse\u001b[49m\u001b[43m(\u001b[49m\u001b[43m)\u001b[49m\n\u001b[0;32m    537\u001b[0m \u001b[38;5;28;01mexcept\u001b[39;00m (BaseSSLError, \u001b[38;5;167;01mOSError\u001b[39;00m) \u001b[38;5;28;01mas\u001b[39;00m e:\n",
      "File \u001b[1;32mc:\\Python311\\Lib\\site-packages\\urllib3\\connection.py:507\u001b[0m, in \u001b[0;36mHTTPConnection.getresponse\u001b[1;34m(self)\u001b[0m\n\u001b[0;32m    506\u001b[0m \u001b[38;5;66;03m# Get the response from http.client.HTTPConnection\u001b[39;00m\n\u001b[1;32m--> 507\u001b[0m httplib_response \u001b[38;5;241m=\u001b[39m \u001b[38;5;28;43msuper\u001b[39;49m\u001b[43m(\u001b[49m\u001b[43m)\u001b[49m\u001b[38;5;241;43m.\u001b[39;49m\u001b[43mgetresponse\u001b[49m\u001b[43m(\u001b[49m\u001b[43m)\u001b[49m\n\u001b[0;32m    509\u001b[0m \u001b[38;5;28;01mtry\u001b[39;00m:\n",
      "File \u001b[1;32mc:\\Python311\\Lib\\http\\client.py:1378\u001b[0m, in \u001b[0;36mHTTPConnection.getresponse\u001b[1;34m(self)\u001b[0m\n\u001b[0;32m   1377\u001b[0m \u001b[38;5;28;01mtry\u001b[39;00m:\n\u001b[1;32m-> 1378\u001b[0m     \u001b[43mresponse\u001b[49m\u001b[38;5;241;43m.\u001b[39;49m\u001b[43mbegin\u001b[49m\u001b[43m(\u001b[49m\u001b[43m)\u001b[49m\n\u001b[0;32m   1379\u001b[0m \u001b[38;5;28;01mexcept\u001b[39;00m \u001b[38;5;167;01mConnectionError\u001b[39;00m:\n",
      "File \u001b[1;32mc:\\Python311\\Lib\\http\\client.py:318\u001b[0m, in \u001b[0;36mHTTPResponse.begin\u001b[1;34m(self)\u001b[0m\n\u001b[0;32m    317\u001b[0m \u001b[38;5;28;01mwhile\u001b[39;00m \u001b[38;5;28;01mTrue\u001b[39;00m:\n\u001b[1;32m--> 318\u001b[0m     version, status, reason \u001b[38;5;241m=\u001b[39m \u001b[38;5;28;43mself\u001b[39;49m\u001b[38;5;241;43m.\u001b[39;49m\u001b[43m_read_status\u001b[49m\u001b[43m(\u001b[49m\u001b[43m)\u001b[49m\n\u001b[0;32m    319\u001b[0m     \u001b[38;5;28;01mif\u001b[39;00m status \u001b[38;5;241m!=\u001b[39m CONTINUE:\n",
      "File \u001b[1;32mc:\\Python311\\Lib\\http\\client.py:287\u001b[0m, in \u001b[0;36mHTTPResponse._read_status\u001b[1;34m(self)\u001b[0m\n\u001b[0;32m    284\u001b[0m \u001b[38;5;28;01mif\u001b[39;00m \u001b[38;5;129;01mnot\u001b[39;00m line:\n\u001b[0;32m    285\u001b[0m     \u001b[38;5;66;03m# Presumably, the server closed the connection before\u001b[39;00m\n\u001b[0;32m    286\u001b[0m     \u001b[38;5;66;03m# sending a valid response.\u001b[39;00m\n\u001b[1;32m--> 287\u001b[0m     \u001b[38;5;28;01mraise\u001b[39;00m RemoteDisconnected(\u001b[38;5;124m\"\u001b[39m\u001b[38;5;124mRemote end closed connection without\u001b[39m\u001b[38;5;124m\"\u001b[39m\n\u001b[0;32m    288\u001b[0m                              \u001b[38;5;124m\"\u001b[39m\u001b[38;5;124m response\u001b[39m\u001b[38;5;124m\"\u001b[39m)\n\u001b[0;32m    289\u001b[0m \u001b[38;5;28;01mtry\u001b[39;00m:\n",
      "\u001b[1;31mProtocolError\u001b[0m: ('Connection aborted.', RemoteDisconnected('Remote end closed connection without response'))",
      "\nDuring handling of the above exception, another exception occurred:\n",
      "\u001b[1;31mConnectionError\u001b[0m                           Traceback (most recent call last)",
      "Cell \u001b[1;32mIn[6], line 20\u001b[0m\n\u001b[0;32m     12\u001b[0m params \u001b[38;5;241m=\u001b[39m {\n\u001b[0;32m     13\u001b[0m     \u001b[38;5;124m\"\u001b[39m\u001b[38;5;124mquery\u001b[39m\u001b[38;5;124m\"\u001b[39m: \u001b[38;5;124mf\u001b[39m\u001b[38;5;124m\"\u001b[39m\u001b[38;5;124m(gene:\u001b[39m\u001b[38;5;132;01m{\u001b[39;00mprot\u001b[38;5;132;01m}\u001b[39;00m\u001b[38;5;124m) AND (organism_id:9606) AND (reviewed:true)\u001b[39m\u001b[38;5;124m\"\u001b[39m,  \u001b[38;5;66;03m# A2M, human (organism_id: 9606), reviewed (Swiss-Prot)\u001b[39;00m\n\u001b[0;32m     14\u001b[0m     \u001b[38;5;124m\"\u001b[39m\u001b[38;5;124mformat\u001b[39m\u001b[38;5;124m\"\u001b[39m: \u001b[38;5;124m\"\u001b[39m\u001b[38;5;124mfasta\u001b[39m\u001b[38;5;124m\"\u001b[39m,  \u001b[38;5;66;03m# FASTA 형식으로 데이터를 가져옴\u001b[39;00m\n\u001b[0;32m     15\u001b[0m     \u001b[38;5;124m\"\u001b[39m\u001b[38;5;124mfields\u001b[39m\u001b[38;5;124m\"\u001b[39m: \u001b[38;5;124m\"\u001b[39m\u001b[38;5;124msequence\u001b[39m\u001b[38;5;124m\"\u001b[39m  \u001b[38;5;66;03m# 서열만 가져오기\u001b[39;00m\n\u001b[0;32m     16\u001b[0m }\n\u001b[0;32m     19\u001b[0m \u001b[38;5;66;03m# UniProt에 API 요청\u001b[39;00m\n\u001b[1;32m---> 20\u001b[0m response \u001b[38;5;241m=\u001b[39m \u001b[43mrequests\u001b[49m\u001b[38;5;241;43m.\u001b[39;49m\u001b[43mget\u001b[49m\u001b[43m(\u001b[49m\u001b[43muniprot_url\u001b[49m\u001b[43m,\u001b[49m\u001b[43m \u001b[49m\u001b[43mparams\u001b[49m\u001b[38;5;241;43m=\u001b[39;49m\u001b[43mparams\u001b[49m\u001b[43m)\u001b[49m\n\u001b[0;32m     22\u001b[0m \u001b[38;5;66;03m# 요청이 성공했는지 확인\u001b[39;00m\n\u001b[0;32m     23\u001b[0m \u001b[38;5;28;01mif\u001b[39;00m response\u001b[38;5;241m.\u001b[39mstatus_code \u001b[38;5;241m==\u001b[39m \u001b[38;5;241m200\u001b[39m:\n",
      "File \u001b[1;32mc:\\Python311\\Lib\\site-packages\\requests\\api.py:73\u001b[0m, in \u001b[0;36mget\u001b[1;34m(url, params, **kwargs)\u001b[0m\n\u001b[0;32m     62\u001b[0m \u001b[38;5;28;01mdef\u001b[39;00m \u001b[38;5;21mget\u001b[39m(url, params\u001b[38;5;241m=\u001b[39m\u001b[38;5;28;01mNone\u001b[39;00m, \u001b[38;5;241m*\u001b[39m\u001b[38;5;241m*\u001b[39mkwargs):\n\u001b[0;32m     63\u001b[0m \u001b[38;5;250m    \u001b[39m\u001b[38;5;124mr\u001b[39m\u001b[38;5;124;03m\"\"\"Sends a GET request.\u001b[39;00m\n\u001b[0;32m     64\u001b[0m \n\u001b[0;32m     65\u001b[0m \u001b[38;5;124;03m    :param url: URL for the new :class:`Request` object.\u001b[39;00m\n\u001b[1;32m   (...)\u001b[0m\n\u001b[0;32m     70\u001b[0m \u001b[38;5;124;03m    :rtype: requests.Response\u001b[39;00m\n\u001b[0;32m     71\u001b[0m \u001b[38;5;124;03m    \"\"\"\u001b[39;00m\n\u001b[1;32m---> 73\u001b[0m     \u001b[38;5;28;01mreturn\u001b[39;00m \u001b[43mrequest\u001b[49m\u001b[43m(\u001b[49m\u001b[38;5;124;43m\"\u001b[39;49m\u001b[38;5;124;43mget\u001b[39;49m\u001b[38;5;124;43m\"\u001b[39;49m\u001b[43m,\u001b[49m\u001b[43m \u001b[49m\u001b[43murl\u001b[49m\u001b[43m,\u001b[49m\u001b[43m \u001b[49m\u001b[43mparams\u001b[49m\u001b[38;5;241;43m=\u001b[39;49m\u001b[43mparams\u001b[49m\u001b[43m,\u001b[49m\u001b[43m \u001b[49m\u001b[38;5;241;43m*\u001b[39;49m\u001b[38;5;241;43m*\u001b[39;49m\u001b[43mkwargs\u001b[49m\u001b[43m)\u001b[49m\n",
      "File \u001b[1;32mc:\\Python311\\Lib\\site-packages\\requests\\api.py:59\u001b[0m, in \u001b[0;36mrequest\u001b[1;34m(method, url, **kwargs)\u001b[0m\n\u001b[0;32m     55\u001b[0m \u001b[38;5;66;03m# By using the 'with' statement we are sure the session is closed, thus we\u001b[39;00m\n\u001b[0;32m     56\u001b[0m \u001b[38;5;66;03m# avoid leaving sockets open which can trigger a ResourceWarning in some\u001b[39;00m\n\u001b[0;32m     57\u001b[0m \u001b[38;5;66;03m# cases, and look like a memory leak in others.\u001b[39;00m\n\u001b[0;32m     58\u001b[0m \u001b[38;5;28;01mwith\u001b[39;00m sessions\u001b[38;5;241m.\u001b[39mSession() \u001b[38;5;28;01mas\u001b[39;00m session:\n\u001b[1;32m---> 59\u001b[0m     \u001b[38;5;28;01mreturn\u001b[39;00m \u001b[43msession\u001b[49m\u001b[38;5;241;43m.\u001b[39;49m\u001b[43mrequest\u001b[49m\u001b[43m(\u001b[49m\u001b[43mmethod\u001b[49m\u001b[38;5;241;43m=\u001b[39;49m\u001b[43mmethod\u001b[49m\u001b[43m,\u001b[49m\u001b[43m \u001b[49m\u001b[43murl\u001b[49m\u001b[38;5;241;43m=\u001b[39;49m\u001b[43murl\u001b[49m\u001b[43m,\u001b[49m\u001b[43m \u001b[49m\u001b[38;5;241;43m*\u001b[39;49m\u001b[38;5;241;43m*\u001b[39;49m\u001b[43mkwargs\u001b[49m\u001b[43m)\u001b[49m\n",
      "File \u001b[1;32mc:\\Python311\\Lib\\site-packages\\requests\\sessions.py:589\u001b[0m, in \u001b[0;36mSession.request\u001b[1;34m(self, method, url, params, data, headers, cookies, files, auth, timeout, allow_redirects, proxies, hooks, stream, verify, cert, json)\u001b[0m\n\u001b[0;32m    584\u001b[0m send_kwargs \u001b[38;5;241m=\u001b[39m {\n\u001b[0;32m    585\u001b[0m     \u001b[38;5;124m\"\u001b[39m\u001b[38;5;124mtimeout\u001b[39m\u001b[38;5;124m\"\u001b[39m: timeout,\n\u001b[0;32m    586\u001b[0m     \u001b[38;5;124m\"\u001b[39m\u001b[38;5;124mallow_redirects\u001b[39m\u001b[38;5;124m\"\u001b[39m: allow_redirects,\n\u001b[0;32m    587\u001b[0m }\n\u001b[0;32m    588\u001b[0m send_kwargs\u001b[38;5;241m.\u001b[39mupdate(settings)\n\u001b[1;32m--> 589\u001b[0m resp \u001b[38;5;241m=\u001b[39m \u001b[38;5;28;43mself\u001b[39;49m\u001b[38;5;241;43m.\u001b[39;49m\u001b[43msend\u001b[49m\u001b[43m(\u001b[49m\u001b[43mprep\u001b[49m\u001b[43m,\u001b[49m\u001b[43m \u001b[49m\u001b[38;5;241;43m*\u001b[39;49m\u001b[38;5;241;43m*\u001b[39;49m\u001b[43msend_kwargs\u001b[49m\u001b[43m)\u001b[49m\n\u001b[0;32m    591\u001b[0m \u001b[38;5;28;01mreturn\u001b[39;00m resp\n",
      "File \u001b[1;32mc:\\Python311\\Lib\\site-packages\\requests\\sessions.py:703\u001b[0m, in \u001b[0;36mSession.send\u001b[1;34m(self, request, **kwargs)\u001b[0m\n\u001b[0;32m    700\u001b[0m start \u001b[38;5;241m=\u001b[39m preferred_clock()\n\u001b[0;32m    702\u001b[0m \u001b[38;5;66;03m# Send the request\u001b[39;00m\n\u001b[1;32m--> 703\u001b[0m r \u001b[38;5;241m=\u001b[39m \u001b[43madapter\u001b[49m\u001b[38;5;241;43m.\u001b[39;49m\u001b[43msend\u001b[49m\u001b[43m(\u001b[49m\u001b[43mrequest\u001b[49m\u001b[43m,\u001b[49m\u001b[43m \u001b[49m\u001b[38;5;241;43m*\u001b[39;49m\u001b[38;5;241;43m*\u001b[39;49m\u001b[43mkwargs\u001b[49m\u001b[43m)\u001b[49m\n\u001b[0;32m    705\u001b[0m \u001b[38;5;66;03m# Total elapsed time of the request (approximately)\u001b[39;00m\n\u001b[0;32m    706\u001b[0m elapsed \u001b[38;5;241m=\u001b[39m preferred_clock() \u001b[38;5;241m-\u001b[39m start\n",
      "File \u001b[1;32mc:\\Python311\\Lib\\site-packages\\requests\\adapters.py:682\u001b[0m, in \u001b[0;36mHTTPAdapter.send\u001b[1;34m(self, request, stream, timeout, verify, cert, proxies)\u001b[0m\n\u001b[0;32m    667\u001b[0m     resp \u001b[38;5;241m=\u001b[39m conn\u001b[38;5;241m.\u001b[39murlopen(\n\u001b[0;32m    668\u001b[0m         method\u001b[38;5;241m=\u001b[39mrequest\u001b[38;5;241m.\u001b[39mmethod,\n\u001b[0;32m    669\u001b[0m         url\u001b[38;5;241m=\u001b[39murl,\n\u001b[1;32m   (...)\u001b[0m\n\u001b[0;32m    678\u001b[0m         chunked\u001b[38;5;241m=\u001b[39mchunked,\n\u001b[0;32m    679\u001b[0m     )\n\u001b[0;32m    681\u001b[0m \u001b[38;5;28;01mexcept\u001b[39;00m (ProtocolError, \u001b[38;5;167;01mOSError\u001b[39;00m) \u001b[38;5;28;01mas\u001b[39;00m err:\n\u001b[1;32m--> 682\u001b[0m     \u001b[38;5;28;01mraise\u001b[39;00m \u001b[38;5;167;01mConnectionError\u001b[39;00m(err, request\u001b[38;5;241m=\u001b[39mrequest)\n\u001b[0;32m    684\u001b[0m \u001b[38;5;28;01mexcept\u001b[39;00m MaxRetryError \u001b[38;5;28;01mas\u001b[39;00m e:\n\u001b[0;32m    685\u001b[0m     \u001b[38;5;28;01mif\u001b[39;00m \u001b[38;5;28misinstance\u001b[39m(e\u001b[38;5;241m.\u001b[39mreason, ConnectTimeoutError):\n\u001b[0;32m    686\u001b[0m         \u001b[38;5;66;03m# TODO: Remove this in 3.0.0: see #2811\u001b[39;00m\n",
      "\u001b[1;31mConnectionError\u001b[0m: ('Connection aborted.', RemoteDisconnected('Remote end closed connection without response'))"
     ]
    }
   ],
   "source": [
    "import requests\n",
    "protein_columns = data.columns[2:]  # ID와 SUBCLASS 열 제외\n",
    "\n",
    "# 단백질 서열을 저장할 딕셔너리 생성\n",
    "protein_sequences = {protein: [] for protein in protein_columns}\n",
    "non_seq = []\n",
    "for protein in tqdm(protein_columns):\n",
    "    prot = f'{protein}'\n",
    "\n",
    "    # UniProt API URL 및 검색 쿼리 설정\n",
    "    uniprot_url = \"https://rest.uniprot.org/uniprotkb/search\"\n",
    "    params = {\n",
    "        \"query\": f\"(gene:{prot}) AND (organism_id:9606) AND (reviewed:true)\",  # A2M, human (organism_id: 9606), reviewed (Swiss-Prot)\n",
    "        \"format\": \"fasta\",  # FASTA 형식으로 데이터를 가져옴\n",
    "        \"fields\": \"sequence\"  # 서열만 가져오기\n",
    "    }\n",
    "\n",
    "\n",
    "    # UniProt에 API 요청\n",
    "    response = requests.get(uniprot_url, params=params)\n",
    "\n",
    "    # 요청이 성공했는지 확인\n",
    "    if response.status_code == 200:\n",
    "        protein_info = response.text  # FASTA 형식으로 데이터 수신\n",
    "        \n",
    "    else:\n",
    "        print(f\"Error: Unable to fetch data (status code {response.status_code})\")\n",
    "    amino_acid_sequence = extract_sequence(protein_info)\n",
    "    protein_sequences[protein] = amino_acid_sequence"
   ]
  },
  {
   "cell_type": "code",
   "execution_count": 28,
   "metadata": {},
   "outputs": [
    {
     "data": {
      "text/html": [
       "<div>\n",
       "<style scoped>\n",
       "    .dataframe tbody tr th:only-of-type {\n",
       "        vertical-align: middle;\n",
       "    }\n",
       "\n",
       "    .dataframe tbody tr th {\n",
       "        vertical-align: top;\n",
       "    }\n",
       "\n",
       "    .dataframe thead th {\n",
       "        text-align: right;\n",
       "    }\n",
       "</style>\n",
       "<table border=\"1\" class=\"dataframe\">\n",
       "  <thead>\n",
       "    <tr style=\"text-align: right;\">\n",
       "      <th></th>\n",
       "      <th>BRCA1</th>\n",
       "      <th>HMGB3</th>\n",
       "      <th>PLXNB2</th>\n",
       "      <th>NOTCH2</th>\n",
       "      <th>RYR2</th>\n",
       "      <th>ALB</th>\n",
       "      <th>BTG1</th>\n",
       "      <th>SMC1A</th>\n",
       "      <th>AQP7</th>\n",
       "      <th>PIM1</th>\n",
       "      <th>...</th>\n",
       "      <th>PEX6</th>\n",
       "      <th>B2M</th>\n",
       "      <th>MYLK</th>\n",
       "      <th>BTG2</th>\n",
       "      <th>CACNA1B</th>\n",
       "      <th>PABPC1</th>\n",
       "      <th>FGFR3</th>\n",
       "      <th>CLIP2</th>\n",
       "      <th>CDH1</th>\n",
       "      <th>HELZ2</th>\n",
       "    </tr>\n",
       "  </thead>\n",
       "  <tbody>\n",
       "    <tr>\n",
       "      <th>0</th>\n",
       "      <td>MDLSALRVEEVQNVINAMQKILECPICLELIKEPVSTKCDHIFCKF...</td>\n",
       "      <td>MAKGDPKKPKGKMSAYAFFVQTCREEHKKKNPEVPVNFAEFSKKCS...</td>\n",
       "      <td>MALQLWALTLLGLLGAGASLRPRKLDFFRSEKELNHLAVDEASGVV...</td>\n",
       "      <td>MPALRPALLWALLALWLCCAAPAHALQCRDGYEPCVNEGMCVTYHN...</td>\n",
       "      <td>MADGGEGEDEIQFLRTDDEVVLQCTATIHKEQQKLCLAAEGFGNRL...</td>\n",
       "      <td>MAPKTKKGCKVTLPEKPVKLASHTRDTTGVSQMFPSSKARTKSLLG...</td>\n",
       "      <td>MHPFYTRAATMIGEIAAAVSFISKFLRTKGLTSERQLQTFSQSLQE...</td>\n",
       "      <td>MGFLKLIEIENFKSYKGRQIIGPFQRFTAIIGPNGSGKSNLMDAIS...</td>\n",
       "      <td>MVQASGHRRSTRGSKMVSWSVIAKIQEILQRKMVREFLAEFMSTYV...</td>\n",
       "      <td>MLLSKINSLAHLRAAPCNDLHATKLAPGKEKEPLESQYQVGPLLGS...</td>\n",
       "      <td>...</td>\n",
       "      <td>MALAVLRVLEPFPTETPPLAVLLPPGGPWPAAELGLVLALRPAGES...</td>\n",
       "      <td>MSRSVALAVLALLSLSGLEAIQRTPKIQVYSRHPAENGKSNFLNCY...</td>\n",
       "      <td>MGDVKLVASSHISKTSLSVDPSRVDSMPLTEAPAFILPPRNLCIKE...</td>\n",
       "      <td>MSHGKGTDMLPEIAAAVGFLSSLLRTRGCVSEQRLKVFSGALQEAL...</td>\n",
       "      <td>MVRFGDELGGRYGGPGGGERARGGGAGGAGGPGPGGLQPGQRVLYK...</td>\n",
       "      <td>MNPSAPSYPMASLYVGDLHPDVTEAMLYEKFSPAGPILSIRVCRDM...</td>\n",
       "      <td>MGAPACALALCVAVAIVAGASSESLGTEQRVVGRAAEVPGPEPGQQ...</td>\n",
       "      <td>MQKPSGLKPPGRGGKHSSPMGRTSTGSASSSAAVAASSKEGSPLHK...</td>\n",
       "      <td>MGPWSRSLSALLLLLQVSSWLCQEPEPCHPGFDAESYTFTVPRRHL...</td>\n",
       "      <td>MAPPGSTLLPNSPAATRGPSLARLCALVDLCLGCSRCTQRLNESTY...</td>\n",
       "    </tr>\n",
       "  </tbody>\n",
       "</table>\n",
       "<p>1 rows × 148 columns</p>\n",
       "</div>"
      ],
      "text/plain": [
       "                                               BRCA1  \\\n",
       "0  MDLSALRVEEVQNVINAMQKILECPICLELIKEPVSTKCDHIFCKF...   \n",
       "\n",
       "                                               HMGB3  \\\n",
       "0  MAKGDPKKPKGKMSAYAFFVQTCREEHKKKNPEVPVNFAEFSKKCS...   \n",
       "\n",
       "                                              PLXNB2  \\\n",
       "0  MALQLWALTLLGLLGAGASLRPRKLDFFRSEKELNHLAVDEASGVV...   \n",
       "\n",
       "                                              NOTCH2  \\\n",
       "0  MPALRPALLWALLALWLCCAAPAHALQCRDGYEPCVNEGMCVTYHN...   \n",
       "\n",
       "                                                RYR2  \\\n",
       "0  MADGGEGEDEIQFLRTDDEVVLQCTATIHKEQQKLCLAAEGFGNRL...   \n",
       "\n",
       "                                                 ALB  \\\n",
       "0  MAPKTKKGCKVTLPEKPVKLASHTRDTTGVSQMFPSSKARTKSLLG...   \n",
       "\n",
       "                                                BTG1  \\\n",
       "0  MHPFYTRAATMIGEIAAAVSFISKFLRTKGLTSERQLQTFSQSLQE...   \n",
       "\n",
       "                                               SMC1A  \\\n",
       "0  MGFLKLIEIENFKSYKGRQIIGPFQRFTAIIGPNGSGKSNLMDAIS...   \n",
       "\n",
       "                                                AQP7  \\\n",
       "0  MVQASGHRRSTRGSKMVSWSVIAKIQEILQRKMVREFLAEFMSTYV...   \n",
       "\n",
       "                                                PIM1  ...  \\\n",
       "0  MLLSKINSLAHLRAAPCNDLHATKLAPGKEKEPLESQYQVGPLLGS...  ...   \n",
       "\n",
       "                                                PEX6  \\\n",
       "0  MALAVLRVLEPFPTETPPLAVLLPPGGPWPAAELGLVLALRPAGES...   \n",
       "\n",
       "                                                 B2M  \\\n",
       "0  MSRSVALAVLALLSLSGLEAIQRTPKIQVYSRHPAENGKSNFLNCY...   \n",
       "\n",
       "                                                MYLK  \\\n",
       "0  MGDVKLVASSHISKTSLSVDPSRVDSMPLTEAPAFILPPRNLCIKE...   \n",
       "\n",
       "                                                BTG2  \\\n",
       "0  MSHGKGTDMLPEIAAAVGFLSSLLRTRGCVSEQRLKVFSGALQEAL...   \n",
       "\n",
       "                                             CACNA1B  \\\n",
       "0  MVRFGDELGGRYGGPGGGERARGGGAGGAGGPGPGGLQPGQRVLYK...   \n",
       "\n",
       "                                              PABPC1  \\\n",
       "0  MNPSAPSYPMASLYVGDLHPDVTEAMLYEKFSPAGPILSIRVCRDM...   \n",
       "\n",
       "                                               FGFR3  \\\n",
       "0  MGAPACALALCVAVAIVAGASSESLGTEQRVVGRAAEVPGPEPGQQ...   \n",
       "\n",
       "                                               CLIP2  \\\n",
       "0  MQKPSGLKPPGRGGKHSSPMGRTSTGSASSSAAVAASSKEGSPLHK...   \n",
       "\n",
       "                                                CDH1  \\\n",
       "0  MGPWSRSLSALLLLLQVSSWLCQEPEPCHPGFDAESYTFTVPRRHL...   \n",
       "\n",
       "                                               HELZ2  \n",
       "0  MAPPGSTLLPNSPAATRGPSLARLCALVDLCLGCSRCTQRLNESTY...  \n",
       "\n",
       "[1 rows x 148 columns]"
      ]
     },
     "execution_count": 28,
     "metadata": {},
     "output_type": "execute_result"
    }
   ],
   "source": [
    "df_sample = pd.DataFrame([protein_sequences])\n",
    "df_sample.head()"
   ]
  },
  {
   "cell_type": "code",
   "execution_count": 25,
   "metadata": {},
   "outputs": [],
   "source": [
    "# 최종 결과를 CSV 파일로 저장\n",
    "df_sample.to_csv('../train_data/protein_sequences_output_uniprot.csv', index=False)"
   ]
  },
  {
   "cell_type": "code",
   "execution_count": 29,
   "metadata": {},
   "outputs": [],
   "source": [
    "df_sample.to_pickle('../train_data/protein_sequences_output_uniprot.pkl')\n"
   ]
  }
 ],
 "metadata": {
  "kernelspec": {
   "display_name": "Python 3",
   "language": "python",
   "name": "python3"
  },
  "language_info": {
   "codemirror_mode": {
    "name": "ipython",
    "version": 3
   },
   "file_extension": ".py",
   "mimetype": "text/x-python",
   "name": "python",
   "nbconvert_exporter": "python",
   "pygments_lexer": "ipython3",
   "version": "3.11.6"
  }
 },
 "nbformat": 4,
 "nbformat_minor": 2
}
