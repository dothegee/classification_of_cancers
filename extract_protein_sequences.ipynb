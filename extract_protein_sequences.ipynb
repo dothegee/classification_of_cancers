{
 "cells": [
  {
   "cell_type": "code",
   "execution_count": null,
   "metadata": {},
   "outputs": [],
   "source": [
    "# !pip install biopython"
   ]
  },
  {
   "cell_type": "code",
   "execution_count": 1,
   "metadata": {},
   "outputs": [],
   "source": [
    "from Bio import Entrez, SeqIO\n",
    "from tqdm import tqdm\n",
    "import pandas as pd\n",
    "import time"
   ]
  },
  {
   "cell_type": "code",
   "execution_count": 8,
   "metadata": {},
   "outputs": [],
   "source": [
    "Entrez.email = \"your_email@example.com\""
   ]
  },
  {
   "cell_type": "code",
   "execution_count": 3,
   "metadata": {},
   "outputs": [],
   "source": [
    "data = pd.read_csv(\"../train_data/merge_train_preprocess_refine_columns.csv\")"
   ]
  },
  {
   "cell_type": "markdown",
   "metadata": {},
   "source": [
    "# 개별 검색"
   ]
  },
  {
   "cell_type": "code",
   "execution_count": 32,
   "metadata": {},
   "outputs": [
    {
     "data": {
      "text/plain": [
       "Index(['SUBCLASS', 'ID', 'BRCA1', 'HMGB3', 'PLXNB2', 'NOTCH2', 'RYR2', 'ALB',\n",
       "       'BTG1', 'SMC1A',\n",
       "       ...\n",
       "       'PEX6', 'B2M', 'MYLK', 'BTG2', 'CACNA1B', 'PABPC1', 'FGFR3', 'CLIP2',\n",
       "       'CDH1', 'HELZ2'],\n",
       "      dtype='object', length=150)"
      ]
     },
     "execution_count": 32,
     "metadata": {},
     "output_type": "execute_result"
    }
   ],
   "source": [
    "data.columns"
   ]
  },
  {
   "cell_type": "code",
   "execution_count": 43,
   "metadata": {},
   "outputs": [],
   "source": [
    "# 검색할 단백질 이름을 입력합니다\n",
    "protein_name = \"BRCA1\""
   ]
  },
  {
   "cell_type": "code",
   "execution_count": 48,
   "metadata": {},
   "outputs": [],
   "source": [
    "search_query = f\"{protein_name}[gene] AND Homo sapiens[organism] AND srcdb_refseq[properties]\""
   ]
  },
  {
   "cell_type": "code",
   "execution_count": 49,
   "metadata": {},
   "outputs": [
    {
     "name": "stdout",
     "output_type": "stream",
     "text": [
      "No protein found with the given name.\n"
     ]
    }
   ],
   "source": [
    "# Step 1: 단백질 이름으로 NCBI protein 데이터베이스 검색\n",
    "try:\n",
    "    handle = Entrez.esearch(db=\"protein\", term=search_query, retmax=1)\n",
    "    record = Entrez.read(handle)\n",
    "    protein_ids = record[\"IdList\"]\n",
    "\n",
    "    # 단백질 ID가 존재할 경우에만 서열을 가져옵니다\n",
    "    if protein_ids:\n",
    "        protein_id = protein_ids[0]\n",
    "        print(f\"Found Protein ID: {protein_id}\")\n",
    "        \n",
    "        # Step 2: 단백질 서열 가져오기\n",
    "        handle = Entrez.efetch(db=\"protein\", id=protein_id, rettype=\"fasta\", retmode=\"text\")\n",
    "        seq_record = SeqIO.read(handle, \"fasta\")\n",
    "        \n",
    "        # 단백질 서열 출력\n",
    "        print(\"Protein Name:\", protein_name)\n",
    "        print(\"Description:\", seq_record.description)\n",
    "        print(\"Sequence:\", seq_record.seq)\n",
    "        \n",
    "    else:\n",
    "        print(\"No protein found with the given name.\")\n",
    "except Exception as e:\n",
    "    print(f\"An error occurred: {e}\")"
   ]
  },
  {
   "cell_type": "code",
   "execution_count": 42,
   "metadata": {},
   "outputs": [
    {
     "data": {
      "text/plain": [
       "['71143137']"
      ]
     },
     "execution_count": 42,
     "metadata": {},
     "output_type": "execute_result"
    }
   ],
   "source": [
    "protein_ids"
   ]
  },
  {
   "cell_type": "code",
   "execution_count": null,
   "metadata": {},
   "outputs": [],
   "source": [
    "str(seq_record.seq)"
   ]
  },
  {
   "cell_type": "code",
   "execution_count": 23,
   "metadata": {},
   "outputs": [
    {
     "name": "stdout",
     "output_type": "stream",
     "text": [
      "No protein found with the given name.\n"
     ]
    }
   ],
   "source": [
    "\n",
    "# Step 1: 단백질 이름으로 NCBI protein 데이터베이스 검색\n",
    "try:\n",
    "    handle = Entrez.esearch(db=\"protein\", term=search_query, retmax=1)\n",
    "    record = Entrez.read(handle)\n",
    "    protein_ids = record[\"IdList\"]\n",
    "\n",
    "    # 단백질 ID가 존재할 경우에만 서열을 가져옵니다\n",
    "    if protein_ids:\n",
    "        protein_id = protein_ids[0]\n",
    "        print(f\"Found Protein ID: {protein_id}\")\n",
    "        \n",
    "        # Step 2: 단백질 서열 가져오기\n",
    "        handle = Entrez.efetch(db=\"protein\", id=protein_id, rettype=\"fasta\", retmode=\"text\")\n",
    "        seq_record = SeqIO.read(handle, \"fasta\")\n",
    "        \n",
    "        # 단백질 서열 출력\n",
    "        print(\"Protein Name:\", protein_name)\n",
    "        print(\"Description:\", seq_record.description)\n",
    "        print(\"Sequence:\", seq_record.seq)\n",
    "    else:\n",
    "        print(\"No protein found with the given name.\")\n",
    "except Exception as e:\n",
    "    print(f\"An error occurred: {e}\")\n"
   ]
  },
  {
   "cell_type": "code",
   "execution_count": 19,
   "metadata": {},
   "outputs": [
    {
     "name": "stdout",
     "output_type": "stream",
     "text": [
      "Found Protein ID: 2813727314\n",
      "Protein Name: BRCA2\n",
      "Description: XP_068818217.1 lys-63-specific deubiquitinase BRCC36 [Capricornis sumatraensis]\n",
      "Sequence: MAVQVVQAVQAVHLESDAFLVCLNHALSTEKEEVMGLCIGELNDDLRNDPKFTYTGTEMRTVAEKVDTVRIVHIHSVIILRRSDKRKDRVEISPEQLSAASTEAERLAELTGRPMRVVGWYHSHPHITVWPSHVDVRTQAMYQMMDQGFVGLIFSCFIEDKNTKTGRVLYTCFQSIQAQKSSESPRGPRDFWSSSQHISIEGQKEEERYERIEIPIHIVPHVTIGKVCLESAVELPKILCQEEQDAYRRIHSLTHLDSVTKIHNGSVFTKNLCSQMSAVSGPLLQWLEDRLEQNQQHVQELQQEKEELLQELSSLE\n"
     ]
    }
   ],
   "source": [
    "# Step 1: 단백질 이름으로 NCBI protein 데이터베이스 검색\n",
    "try:\n",
    "    handle = Entrez.esearch(db=\"protein\", term=protein_name, retmax=1)\n",
    "    record = Entrez.read(handle)\n",
    "    protein_ids = record[\"IdList\"]\n",
    "\n",
    "    # 단백질 ID가 존재할 경우에만 서열을 가져옵니다\n",
    "    if protein_ids:\n",
    "        protein_id = protein_ids[0]\n",
    "        print(f\"Found Protein ID: {protein_id}\")\n",
    "        \n",
    "        # Step 2: 단백질 서열 가져오기\n",
    "        handle = Entrez.efetch(db=\"protein\", id=protein_id, rettype=\"fasta\", retmode=\"text\")\n",
    "        seq_record = SeqIO.read(handle, \"fasta\")\n",
    "        \n",
    "        # 단백질 서열 출력\n",
    "        print(\"Protein Name:\", protein_name)\n",
    "        print(\"Description:\", seq_record.description)\n",
    "        print(\"Sequence:\", seq_record.seq)\n",
    "    else:\n",
    "        print(\"No protein found with the given name.\")\n",
    "except Exception as e:\n",
    "    print(f\"An error occurred: {e}\")\n"
   ]
  },
  {
   "cell_type": "markdown",
   "metadata": {},
   "source": [
    "# refine_col로 추출"
   ]
  },
  {
   "cell_type": "code",
   "execution_count": 10,
   "metadata": {},
   "outputs": [],
   "source": [
    "import ssl\n",
    "from tqdm import tqdm\n",
    "from Bio import Entrez, SeqIO\n",
    "import time\n",
    "\n",
    "# SSL 인증서 검증 비활성화\n",
    "ssl._create_default_https_context = ssl._create_unverified_context"
   ]
  },
  {
   "cell_type": "code",
   "execution_count": 50,
   "metadata": {},
   "outputs": [
    {
     "name": "stderr",
     "output_type": "stream",
     "text": [
      "100%|██████████| 148/148 [12:56<00:00,  5.25s/it]\n"
     ]
    }
   ],
   "source": [
    "# 단백질 이름 컬럼들을 추출\n",
    "protein_columns = data.columns[2:]  # ID와 SUBCLASS 열 제외\n",
    "\n",
    "# 단백질 서열을 저장할 딕셔너리 생성\n",
    "protein_sequences = {protein: [] for protein in protein_columns}\n",
    "non_seq = []\n",
    "# 각 단백질에 대해 NCBI에서 서열 검색 후 딕셔너리에 추가\n",
    "for protein in tqdm(protein_columns):\n",
    "    search_query = f\"{protein}[gene] AND Homo sapiens[organism] AND srcdb_refseq[properties]\"\n",
    "    try:\n",
    "        # NCBI protein 데이터베이스에서 검색\n",
    "        handle = Entrez.esearch(db=\"protein\", term=search_query, retmax=1)\n",
    "        record = Entrez.read(handle)\n",
    "        protein_ids = record[\"IdList\"]\n",
    "\n",
    "        # 단백질 ID가 존재하는 경우 서열 가져오기\n",
    "        if protein_ids:\n",
    "            protein_id = protein_ids[0]\n",
    "            handle = Entrez.efetch(db=\"protein\", id=protein_id, rettype=\"fasta\", retmode=\"text\")\n",
    "            seq_record = SeqIO.read(handle, \"fasta\")\n",
    "            protein_sequences[protein] = seq_record.seq\n",
    "        else:\n",
    "            protein_sequences[protein] = None\n",
    "            print(f\"{protein}은 서열 정보가 없습니다.\")\n",
    "            non_seq.append(protein)\n",
    "\n",
    "        # 너무 많은 요청을 보내지 않도록 잠시 대기\n",
    "        time.sleep(1)\n",
    "    except Exception as e:\n",
    "        protein_sequences[protein] = None\n",
    "        print(f\"Error fetching sequence for {protein}: {e}\")\n",
    "\n"
   ]
  },
  {
   "cell_type": "code",
   "execution_count": 51,
   "metadata": {},
   "outputs": [
    {
     "data": {
      "text/html": [
       "<div>\n",
       "<style scoped>\n",
       "    .dataframe tbody tr th:only-of-type {\n",
       "        vertical-align: middle;\n",
       "    }\n",
       "\n",
       "    .dataframe tbody tr th {\n",
       "        vertical-align: top;\n",
       "    }\n",
       "\n",
       "    .dataframe thead th {\n",
       "        text-align: right;\n",
       "    }\n",
       "</style>\n",
       "<table border=\"1\" class=\"dataframe\">\n",
       "  <thead>\n",
       "    <tr style=\"text-align: right;\">\n",
       "      <th></th>\n",
       "      <th>BRCA1</th>\n",
       "      <th>HMGB3</th>\n",
       "      <th>PLXNB2</th>\n",
       "      <th>NOTCH2</th>\n",
       "      <th>RYR2</th>\n",
       "      <th>ALB</th>\n",
       "      <th>BTG1</th>\n",
       "      <th>SMC1A</th>\n",
       "      <th>AQP7</th>\n",
       "      <th>PIM1</th>\n",
       "      <th>...</th>\n",
       "      <th>PEX6</th>\n",
       "      <th>B2M</th>\n",
       "      <th>MYLK</th>\n",
       "      <th>BTG2</th>\n",
       "      <th>CACNA1B</th>\n",
       "      <th>PABPC1</th>\n",
       "      <th>FGFR3</th>\n",
       "      <th>CLIP2</th>\n",
       "      <th>CDH1</th>\n",
       "      <th>HELZ2</th>\n",
       "    </tr>\n",
       "  </thead>\n",
       "  <tbody>\n",
       "    <tr>\n",
       "      <th>0</th>\n",
       "      <td>(M, D, L, S, A, L, R, V, E, E, V, Q, N, V, I, ...</td>\n",
       "      <td>(M, A, K, G, D, P, K, K, P, K, G, K, M, S, A, ...</td>\n",
       "      <td>(M, L, L, E, V, S, Y, G, G, S, P, V, P, N, P, ...</td>\n",
       "      <td>(M, P, A, L, R, P, A, L, L, W, A, L, L, A, L, ...</td>\n",
       "      <td>(M, A, D, G, G, E, G, E, D, E, I, Q, F, L, R, ...</td>\n",
       "      <td>(M, K, W, V, T, F, I, S, L, L, F, L, F, S, S, ...</td>\n",
       "      <td>(M, H, P, F, Y, T, R, A, A, T, M, I, G, E, I, ...</td>\n",
       "      <td>(M, L, E, V, S, I, P, T, P, H, R, Y, V, R, G, ...</td>\n",
       "      <td>(M, V, Q, A, S, G, H, R, R, S, T, R, G, S, K, ...</td>\n",
       "      <td>(M, Q, D, L, G, D, K, L, R, M, I, V, M, G, H, ...</td>\n",
       "      <td>...</td>\n",
       "      <td>(M, A, L, A, V, L, R, V, L, E, P, F, P, T, E, ...</td>\n",
       "      <td>(M, S, R, S, V, A, L, A, V, L, A, L, L, S, L, ...</td>\n",
       "      <td>(M, G, D, V, K, L, V, A, S, S, H, I, S, K, T, ...</td>\n",
       "      <td>(M, S, H, G, K, G, T, D, M, L, P, E, I, A, A, ...</td>\n",
       "      <td>(M, V, R, F, G, D, E, L, G, G, R, Y, G, G, P, ...</td>\n",
       "      <td>(M, N, P, S, A, P, S, Y, P, M, A, S, L, Y, V, ...</td>\n",
       "      <td>(M, G, A, P, A, C, A, L, A, L, C, V, A, V, A, ...</td>\n",
       "      <td>(M, Q, K, P, S, G, L, K, P, P, G, R, G, G, K, ...</td>\n",
       "      <td>(M, A, L, E, V, G, D, Y, K, I, N, L, K, L, M, ...</td>\n",
       "      <td>(M, A, V, W, E, A, E, Q, L, G, G, L, Q, R, G, ...</td>\n",
       "    </tr>\n",
       "  </tbody>\n",
       "</table>\n",
       "<p>1 rows × 148 columns</p>\n",
       "</div>"
      ],
      "text/plain": [
       "                                               BRCA1  \\\n",
       "0  (M, D, L, S, A, L, R, V, E, E, V, Q, N, V, I, ...   \n",
       "\n",
       "                                               HMGB3  \\\n",
       "0  (M, A, K, G, D, P, K, K, P, K, G, K, M, S, A, ...   \n",
       "\n",
       "                                              PLXNB2  \\\n",
       "0  (M, L, L, E, V, S, Y, G, G, S, P, V, P, N, P, ...   \n",
       "\n",
       "                                              NOTCH2  \\\n",
       "0  (M, P, A, L, R, P, A, L, L, W, A, L, L, A, L, ...   \n",
       "\n",
       "                                                RYR2  \\\n",
       "0  (M, A, D, G, G, E, G, E, D, E, I, Q, F, L, R, ...   \n",
       "\n",
       "                                                 ALB  \\\n",
       "0  (M, K, W, V, T, F, I, S, L, L, F, L, F, S, S, ...   \n",
       "\n",
       "                                                BTG1  \\\n",
       "0  (M, H, P, F, Y, T, R, A, A, T, M, I, G, E, I, ...   \n",
       "\n",
       "                                               SMC1A  \\\n",
       "0  (M, L, E, V, S, I, P, T, P, H, R, Y, V, R, G, ...   \n",
       "\n",
       "                                                AQP7  \\\n",
       "0  (M, V, Q, A, S, G, H, R, R, S, T, R, G, S, K, ...   \n",
       "\n",
       "                                                PIM1  ...  \\\n",
       "0  (M, Q, D, L, G, D, K, L, R, M, I, V, M, G, H, ...  ...   \n",
       "\n",
       "                                                PEX6  \\\n",
       "0  (M, A, L, A, V, L, R, V, L, E, P, F, P, T, E, ...   \n",
       "\n",
       "                                                 B2M  \\\n",
       "0  (M, S, R, S, V, A, L, A, V, L, A, L, L, S, L, ...   \n",
       "\n",
       "                                                MYLK  \\\n",
       "0  (M, G, D, V, K, L, V, A, S, S, H, I, S, K, T, ...   \n",
       "\n",
       "                                                BTG2  \\\n",
       "0  (M, S, H, G, K, G, T, D, M, L, P, E, I, A, A, ...   \n",
       "\n",
       "                                             CACNA1B  \\\n",
       "0  (M, V, R, F, G, D, E, L, G, G, R, Y, G, G, P, ...   \n",
       "\n",
       "                                              PABPC1  \\\n",
       "0  (M, N, P, S, A, P, S, Y, P, M, A, S, L, Y, V, ...   \n",
       "\n",
       "                                               FGFR3  \\\n",
       "0  (M, G, A, P, A, C, A, L, A, L, C, V, A, V, A, ...   \n",
       "\n",
       "                                               CLIP2  \\\n",
       "0  (M, Q, K, P, S, G, L, K, P, P, G, R, G, G, K, ...   \n",
       "\n",
       "                                                CDH1  \\\n",
       "0  (M, A, L, E, V, G, D, Y, K, I, N, L, K, L, M, ...   \n",
       "\n",
       "                                               HELZ2  \n",
       "0  (M, A, V, W, E, A, E, Q, L, G, G, L, Q, R, G, ...  \n",
       "\n",
       "[1 rows x 148 columns]"
      ]
     },
     "execution_count": 51,
     "metadata": {},
     "output_type": "execute_result"
    }
   ],
   "source": [
    "# DataFrame에 단백질 서열 추가\n",
    "df_sample = pd.DataFrame([protein_sequences])\n",
    "df_sample.head()"
   ]
  },
  {
   "cell_type": "code",
   "execution_count": 52,
   "metadata": {},
   "outputs": [],
   "source": [
    "# 최종 결과를 CSV 파일로 저장\n",
    "df_sample.to_csv('../train_data/protein_sequences_output_sample_refine_col.csv', index=False)"
   ]
  },
  {
   "cell_type": "markdown",
   "metadata": {},
   "source": [
    "# 전체 col로 추출"
   ]
  },
  {
   "cell_type": "code",
   "execution_count": null,
   "metadata": {},
   "outputs": [],
   "source": [
    "train = pd.read_csv(\"../train_data/train.csv\")"
   ]
  },
  {
   "cell_type": "code",
   "execution_count": 55,
   "metadata": {},
   "outputs": [
    {
     "ename": "NameError",
     "evalue": "name 'train' is not defined",
     "output_type": "error",
     "traceback": [
      "\u001b[1;31m---------------------------------------------------------------------------\u001b[0m",
      "\u001b[1;31mNameError\u001b[0m                                 Traceback (most recent call last)",
      "Cell \u001b[1;32mIn[55], line 2\u001b[0m\n\u001b[0;32m      1\u001b[0m \u001b[38;5;66;03m# 단백질 이름 컬럼들을 추출\u001b[39;00m\n\u001b[1;32m----> 2\u001b[0m protein_columns \u001b[38;5;241m=\u001b[39m \u001b[43mtrain\u001b[49m\u001b[38;5;241m.\u001b[39mcolumns[\u001b[38;5;241m2\u001b[39m:]  \u001b[38;5;66;03m# ID와 SUBCLASS 열 제외\u001b[39;00m\n\u001b[0;32m      4\u001b[0m \u001b[38;5;66;03m# 단백질 서열을 저장할 딕셔너리 생성\u001b[39;00m\n\u001b[0;32m      5\u001b[0m protein_sequences \u001b[38;5;241m=\u001b[39m {protein: [] \u001b[38;5;28;01mfor\u001b[39;00m protein \u001b[38;5;129;01min\u001b[39;00m protein_columns}\n",
      "\u001b[1;31mNameError\u001b[0m: name 'train' is not defined"
     ]
    }
   ],
   "source": [
    "# 단백질 이름 컬럼들을 추출\n",
    "protein_columns = train.columns[2:]  # ID와 SUBCLASS 열 제외\n",
    "\n",
    "# 단백질 서열을 저장할 딕셔너리 생성\n",
    "protein_sequences = {protein: [] for protein in protein_columns}\n",
    "non_seq = []\n",
    "# 각 단백질에 대해 NCBI에서 서열 검색 후 딕셔너리에 추가\n",
    "for protein in tqdm(protein_columns):\n",
    "    try:\n",
    "        # NCBI protein 데이터베이스에서 검색\n",
    "        handle = Entrez.esearch(db=\"protein\", term=protein, retmax=1)\n",
    "        record = Entrez.read(handle)\n",
    "        protein_ids = record[\"IdList\"]\n",
    "\n",
    "        # 단백질 ID가 존재하는 경우 서열 가져오기\n",
    "        if protein_ids:\n",
    "            protein_id = protein_ids[0]\n",
    "            handle = Entrez.efetch(db=\"protein\", id=protein_id, rettype=\"fasta\", retmode=\"text\")\n",
    "            seq_record = SeqIO.read(handle, \"fasta\")\n",
    "            protein_sequences[protein] = seq_record.seq\n",
    "        else:\n",
    "            protein_sequences[protein] = None\n",
    "            print(f\"{protein}은 서열 정보가 없습니다.\")\n",
    "            non_seq.append(protein)\n",
    "\n",
    "        # 너무 많은 요청을 보내지 않도록 잠시 대기\n",
    "        time.sleep(1)\n",
    "    except Exception as e:\n",
    "        protein_sequences[protein] = None\n",
    "        print(f\"Error fetching sequence for {protein}: {e}\")\n",
    "\n"
   ]
  },
  {
   "cell_type": "code",
   "execution_count": null,
   "metadata": {},
   "outputs": [],
   "source": [
    "# DataFrame에 단백질 서열 추가\n",
    "df = pd.DataFrame([protein_sequences])\n",
    "df.head()"
   ]
  },
  {
   "cell_type": "code",
   "execution_count": null,
   "metadata": {},
   "outputs": [],
   "source": [
    "\n",
    "# 최종 결과를 CSV 파일로 저장\n",
    "df.to_csv('../train_data/protein_sequences_output.csv', index=False)"
   ]
  },
  {
   "cell_type": "markdown",
   "metadata": {},
   "source": [
    "# Uniprot DB 이용"
   ]
  },
  {
   "cell_type": "code",
   "execution_count": 21,
   "metadata": {},
   "outputs": [
    {
     "name": "stdout",
     "output_type": "stream",
     "text": [
      "MPALRPALLWALLALWLCCAAPAHALQCRDGYEPCVNEGMCVTYHNGTGYCKCPEGFLGEYCQHRDPCEKNRCQNGGTCVAQAMLGKATCRCASGFTGEDCQYSTSHPCFVSRPCLNGGTCHMLSRDTYECTCQVGFTGKECQWTDACLSHPCANGSTCTTVANQFSCKCLTGFTGQKCETDVNECDIPGHCQHGGTCLNLPGSYQCQCPQGFTGQYCDSLYVPCAPSPCVNGGTCRQTGDFTFECNCLPGFEGSTCERNIDDCPNHRCQNGGVCVDGVNTYNCRCPPQWTGQFCTEDVDECLLQPNACQNGGTCANRNGGYGCVCVNGWSGDDCSENIDDCAFASCTPGSTCIDRVASFSCMCPEGKAGLLCHLDDACISNPCHKGALCDTNPLNGQYICTCPQGYKGADCTEDVDECAMANSNPCEHAGKCVNTDGAFHCECLKGYAGPRCEMDINECHSDPCQNDATCLDKIGGFTCLCMPGFKGVHCELEINECQSNPCVNNGQCVDKVNRFQCLCPPGFTGPVCQIDIDDCSSTPCLNGAKCIDHPNGYECQCATGFTGVLCEENIDNCDPDPCHHGQCQDGIDSYTCICNPGYMGAICSDQIDECYSSPCLNDGRCIDLVNGYQCNCQPGTSGVNCEINFDDCASNPCIHGICMDGINRYSCVCSPGFTGQRCNIDIDECASNPCRKGATCINGVNGFRCICPEGPHHPSCYSQVNECLSNPCIHGNCTGGLSGYKCLCDAGWVGINCEVDKNECLSNPCQNGGTCDNLVNGYRCTCKKGFKGYNCQVNIDECASNPCLNQGTCFDDISGYTCHCVLPYTGKNCQTVLAPCSPNPCENAAVCKESPNFESYTCLCAPGWQGQRCTIDIDECISKPCMNHGLCHNTQGSYMCECPPGFSGMDCEEDIDDCLANPCQNGGSCMDGVNTFSCLCLPGFTGDKCQTDMNECLSEPCKNGGTCSDYVNSYTCKCQAGFDGVHCENNINECTESSCFNGGTCVDGINSFSCLCPVGFTGSFCLHEINECSSHPCLNEGTCVDGLGTYRCSCPLGYTGKNCQTLVNLCSRSPCKNKGTCVQKKAESQCLCPSGWAGAYCDVPNVSCDIAASRRGVLVEHLCQHSGVCINAGNTHYCQCPLGYTGSYCEEQLDECASNPCQHGATCSDFIGGYRCECVPGYQGVNCEYEVDECQNQPCQNGGTCIDLVNHFKCSCPPGTRGLLCEENIDDCARGPHCLNGGQCMDRIGGYSCRCLPGFAGERCEGDINECLSNPCSSEGSLDCIQLTNDYLCVCRSAFTGRHCETFVDVCPQMPCLNGGTCAVASNMPDGFICRCPPGFSGARCQSSCGQVKCRKGEQCVHTASGPRCFCPSPRDCESGCASSPCQHGGSCHPQRQPPYYSCQCAPPFSGSRCELYTAPPSTPPATCLSQYCADKARDGVCDEACNSHACQWDGGDCSLTMENPWANCSSPLPCWDYINNQCDELCNTVECLFDNFECQGNSKTCKYDKYCADHFKDNHCDQGCNSEECGWDGLDCAADQPENLAEGTLVIVVLMPPEQLLQDARSFLRALGTLLHTNLRIKRDSQGELMVYPYYGEKSAAMKKQRMTRRSLPGEQEQEVAGSKVFLEIDNRQCVQDSDHCFKNTDAAAALLASHAIQGTLSYPLVSVVSESLTPERTQLLYLLAVAVVIILFIILLGVIMAKRKRKHGSLWLPEGFTLRRDASNHKRREPVGQDAVGLKNLSVQVSEANLIGTGTSEHWVDDEGPQPKKVKAEDEALLSEEDDPIDRRPWTQQHLEAADIRRTPSLALTPPQAEQEVDVLDVNVRGPDGCTPLMLASLRGGSSDLSDEDEDAEDSSANIITDLVYQGASLQAQTDRTGEMALHLAARYSRADAAKRLLDAGADANAQDNMGRCPLHAAVAADAQGVFQILIRNRVTDLDARMNDGTTPLILAARLAVEGMVAELINCQADVNAVDDHGKSALHWAAAVNNVEATLLLLKNGANRDMQDNKEETPLFLAAREGSYEAAKILLDHFANRDITDHMDRLPRDVARDRMHHDIVRLLDEYNVTPSPPGTVLTSALSPVICGPNRSFLSLKHTPMGKKSRRPSAKSTMPTSLPNLAKEAKDAKGSRRKKSLSEKVQLSESSVTLSPVDSLESPHTYVSDTTSSPMITSPGILQASPNPMLATAAPPAPVHAQHALSFSNLHEMQPLAHGASTVLPSVSQLLSHHHIVSPGSGSAGSLSRLHPVPVPADWMNRMEVNETQYNEMFGMVLAPAEGTHPGIAPQSRPPEGKHITTPREPLPPIVTFQLIPKGSIAQPAGAPQPQSTCPPAVAGPLPTMYQIPEMARLPSVAFPTAMMPQQDGQVAQTILPAYHPFPASVGKYPTPPSQHSYASSNAAERTPSHSGHLQGEHPYLTPSPESPDQWSSSSPHSASDWSDVTTSPTPGGAGGGQRGPGTHMSEPPHNNMQVYA\n"
     ]
    }
   ],
   "source": [
    "def extract_sequence(fasta_data):\n",
    "    lines = fasta_data.strip().split(\"\\n\")\n",
    "    sequence = []\n",
    "    \n",
    "    # 헤더 줄을 제외하고 아미노산 서열을 리스트에 추가\n",
    "    for line in lines:\n",
    "        if not line.startswith(\">\"):  # 헤더 줄 무시\n",
    "            sequence.append(line.strip())\n",
    "    \n",
    "    # 모든 아미노산 서열을 하나의 문자열로 결합\n",
    "    return \"\".join(sequence)\n",
    "\n"
   ]
  },
  {
   "cell_type": "code",
   "execution_count": null,
   "metadata": {},
   "outputs": [],
   "source": [
    "import requests\n",
    "protein_columns = data.columns[2:]  # ID와 SUBCLASS 열 제외\n",
    "\n",
    "# 단백질 서열을 저장할 딕셔너리 생성\n",
    "protein_sequences = {protein: [] for protein in protein_columns}\n",
    "non_seq = []\n",
    "for protein in tqdm(protein_columns):\n",
    "    prot = f'{protein}'\n",
    "\n",
    "    # UniProt API URL 및 검색 쿼리 설정\n",
    "    uniprot_url = \"https://rest.uniprot.org/uniprotkb/search\"\n",
    "    params = {\n",
    "        \"query\": f\"(gene:{prot}) AND (organism_id:9606) AND (reviewed:true)\",  # A2M, human (organism_id: 9606), reviewed (Swiss-Prot)\n",
    "        \"format\": \"fasta\",  # FASTA 형식으로 데이터를 가져옴\n",
    "        \"fields\": \"sequence\"  # 서열만 가져오기\n",
    "    }\n",
    "\n",
    "\n",
    "    # UniProt에 API 요청\n",
    "    response = requests.get(uniprot_url, params=params)\n",
    "\n",
    "    # 요청이 성공했는지 확인\n",
    "    if response.status_code == 200:\n",
    "        protein_info = response.text  # FASTA 형식으로 데이터 수신\n",
    "        \n",
    "    else:\n",
    "        print(f\"Error: Unable to fetch data (status code {response.status_code})\")\n",
    "    amino_acid_sequence = extract_sequence(protein_info)\n",
    "    protein_sequences[protein] = amino_acid_sequence"
   ]
  },
  {
   "cell_type": "code",
   "execution_count": 24,
   "metadata": {},
   "outputs": [
    {
     "data": {
      "text/html": [
       "<div>\n",
       "<style scoped>\n",
       "    .dataframe tbody tr th:only-of-type {\n",
       "        vertical-align: middle;\n",
       "    }\n",
       "\n",
       "    .dataframe tbody tr th {\n",
       "        vertical-align: top;\n",
       "    }\n",
       "\n",
       "    .dataframe thead th {\n",
       "        text-align: right;\n",
       "    }\n",
       "</style>\n",
       "<table border=\"1\" class=\"dataframe\">\n",
       "  <thead>\n",
       "    <tr style=\"text-align: right;\">\n",
       "      <th></th>\n",
       "      <th>BRCA1</th>\n",
       "      <th>HMGB3</th>\n",
       "      <th>PLXNB2</th>\n",
       "      <th>NOTCH2</th>\n",
       "      <th>RYR2</th>\n",
       "      <th>ALB</th>\n",
       "      <th>BTG1</th>\n",
       "      <th>SMC1A</th>\n",
       "      <th>AQP7</th>\n",
       "      <th>PIM1</th>\n",
       "      <th>...</th>\n",
       "      <th>PEX6</th>\n",
       "      <th>B2M</th>\n",
       "      <th>MYLK</th>\n",
       "      <th>BTG2</th>\n",
       "      <th>CACNA1B</th>\n",
       "      <th>PABPC1</th>\n",
       "      <th>FGFR3</th>\n",
       "      <th>CLIP2</th>\n",
       "      <th>CDH1</th>\n",
       "      <th>HELZ2</th>\n",
       "    </tr>\n",
       "  </thead>\n",
       "  <tbody>\n",
       "    <tr>\n",
       "      <th>0</th>\n",
       "      <td>MDLSALRVEEVQNVINAMQKILECPICLELIKEPVSTKCDHIFCKF...</td>\n",
       "      <td>MAKGDPKKPKGKMSAYAFFVQTCREEHKKKNPEVPVNFAEFSKKCS...</td>\n",
       "      <td>MALQLWALTLLGLLGAGASLRPRKLDFFRSEKELNHLAVDEASGVV...</td>\n",
       "      <td>MPALRPALLWALLALWLCCAAPAHALQCRDGYEPCVNEGMCVTYHN...</td>\n",
       "      <td>MADGGEGEDEIQFLRTDDEVVLQCTATIHKEQQKLCLAAEGFGNRL...</td>\n",
       "      <td>MAPKTKKGCKVTLPEKPVKLASHTRDTTGVSQMFPSSKARTKSLLG...</td>\n",
       "      <td>MHPFYTRAATMIGEIAAAVSFISKFLRTKGLTSERQLQTFSQSLQE...</td>\n",
       "      <td>MGFLKLIEIENFKSYKGRQIIGPFQRFTAIIGPNGSGKSNLMDAIS...</td>\n",
       "      <td>MVQASGHRRSTRGSKMVSWSVIAKIQEILQRKMVREFLAEFMSTYV...</td>\n",
       "      <td>MLLSKINSLAHLRAAPCNDLHATKLAPGKEKEPLESQYQVGPLLGS...</td>\n",
       "      <td>...</td>\n",
       "      <td>MALAVLRVLEPFPTETPPLAVLLPPGGPWPAAELGLVLALRPAGES...</td>\n",
       "      <td>MSRSVALAVLALLSLSGLEAIQRTPKIQVYSRHPAENGKSNFLNCY...</td>\n",
       "      <td>MGDVKLVASSHISKTSLSVDPSRVDSMPLTEAPAFILPPRNLCIKE...</td>\n",
       "      <td>MSHGKGTDMLPEIAAAVGFLSSLLRTRGCVSEQRLKVFSGALQEAL...</td>\n",
       "      <td>MVRFGDELGGRYGGPGGGERARGGGAGGAGGPGPGGLQPGQRVLYK...</td>\n",
       "      <td>MNPSAPSYPMASLYVGDLHPDVTEAMLYEKFSPAGPILSIRVCRDM...</td>\n",
       "      <td>MGAPACALALCVAVAIVAGASSESLGTEQRVVGRAAEVPGPEPGQQ...</td>\n",
       "      <td>MQKPSGLKPPGRGGKHSSPMGRTSTGSASSSAAVAASSKEGSPLHK...</td>\n",
       "      <td>MGPWSRSLSALLLLLQVSSWLCQEPEPCHPGFDAESYTFTVPRRHL...</td>\n",
       "      <td>MAPPGSTLLPNSPAATRGPSLARLCALVDLCLGCSRCTQRLNESTY...</td>\n",
       "    </tr>\n",
       "  </tbody>\n",
       "</table>\n",
       "<p>1 rows × 148 columns</p>\n",
       "</div>"
      ],
      "text/plain": [
       "                                               BRCA1  \\\n",
       "0  MDLSALRVEEVQNVINAMQKILECPICLELIKEPVSTKCDHIFCKF...   \n",
       "\n",
       "                                               HMGB3  \\\n",
       "0  MAKGDPKKPKGKMSAYAFFVQTCREEHKKKNPEVPVNFAEFSKKCS...   \n",
       "\n",
       "                                              PLXNB2  \\\n",
       "0  MALQLWALTLLGLLGAGASLRPRKLDFFRSEKELNHLAVDEASGVV...   \n",
       "\n",
       "                                              NOTCH2  \\\n",
       "0  MPALRPALLWALLALWLCCAAPAHALQCRDGYEPCVNEGMCVTYHN...   \n",
       "\n",
       "                                                RYR2  \\\n",
       "0  MADGGEGEDEIQFLRTDDEVVLQCTATIHKEQQKLCLAAEGFGNRL...   \n",
       "\n",
       "                                                 ALB  \\\n",
       "0  MAPKTKKGCKVTLPEKPVKLASHTRDTTGVSQMFPSSKARTKSLLG...   \n",
       "\n",
       "                                                BTG1  \\\n",
       "0  MHPFYTRAATMIGEIAAAVSFISKFLRTKGLTSERQLQTFSQSLQE...   \n",
       "\n",
       "                                               SMC1A  \\\n",
       "0  MGFLKLIEIENFKSYKGRQIIGPFQRFTAIIGPNGSGKSNLMDAIS...   \n",
       "\n",
       "                                                AQP7  \\\n",
       "0  MVQASGHRRSTRGSKMVSWSVIAKIQEILQRKMVREFLAEFMSTYV...   \n",
       "\n",
       "                                                PIM1  ...  \\\n",
       "0  MLLSKINSLAHLRAAPCNDLHATKLAPGKEKEPLESQYQVGPLLGS...  ...   \n",
       "\n",
       "                                                PEX6  \\\n",
       "0  MALAVLRVLEPFPTETPPLAVLLPPGGPWPAAELGLVLALRPAGES...   \n",
       "\n",
       "                                                 B2M  \\\n",
       "0  MSRSVALAVLALLSLSGLEAIQRTPKIQVYSRHPAENGKSNFLNCY...   \n",
       "\n",
       "                                                MYLK  \\\n",
       "0  MGDVKLVASSHISKTSLSVDPSRVDSMPLTEAPAFILPPRNLCIKE...   \n",
       "\n",
       "                                                BTG2  \\\n",
       "0  MSHGKGTDMLPEIAAAVGFLSSLLRTRGCVSEQRLKVFSGALQEAL...   \n",
       "\n",
       "                                             CACNA1B  \\\n",
       "0  MVRFGDELGGRYGGPGGGERARGGGAGGAGGPGPGGLQPGQRVLYK...   \n",
       "\n",
       "                                              PABPC1  \\\n",
       "0  MNPSAPSYPMASLYVGDLHPDVTEAMLYEKFSPAGPILSIRVCRDM...   \n",
       "\n",
       "                                               FGFR3  \\\n",
       "0  MGAPACALALCVAVAIVAGASSESLGTEQRVVGRAAEVPGPEPGQQ...   \n",
       "\n",
       "                                               CLIP2  \\\n",
       "0  MQKPSGLKPPGRGGKHSSPMGRTSTGSASSSAAVAASSKEGSPLHK...   \n",
       "\n",
       "                                                CDH1  \\\n",
       "0  MGPWSRSLSALLLLLQVSSWLCQEPEPCHPGFDAESYTFTVPRRHL...   \n",
       "\n",
       "                                               HELZ2  \n",
       "0  MAPPGSTLLPNSPAATRGPSLARLCALVDLCLGCSRCTQRLNESTY...  \n",
       "\n",
       "[1 rows x 148 columns]"
      ]
     },
     "execution_count": 24,
     "metadata": {},
     "output_type": "execute_result"
    }
   ],
   "source": [
    "df_sample = pd.DataFrame([protein_sequences])\n",
    "df_sample.head()"
   ]
  },
  {
   "cell_type": "code",
   "execution_count": 25,
   "metadata": {},
   "outputs": [],
   "source": [
    "# 최종 결과를 CSV 파일로 저장\n",
    "df_sample.to_csv('../train_data/protein_sequences_output_sample_refine_col_uniprot.csv', index=False)"
   ]
  }
 ],
 "metadata": {
  "kernelspec": {
   "display_name": "Python 3",
   "language": "python",
   "name": "python3"
  },
  "language_info": {
   "codemirror_mode": {
    "name": "ipython",
    "version": 3
   },
   "file_extension": ".py",
   "mimetype": "text/x-python",
   "name": "python",
   "nbconvert_exporter": "python",
   "pygments_lexer": "ipython3",
   "version": "3.10.8"
  }
 },
 "nbformat": 4,
 "nbformat_minor": 2
}
