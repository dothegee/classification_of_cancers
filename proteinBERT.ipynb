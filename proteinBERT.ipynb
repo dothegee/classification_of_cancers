{
 "cells": [
  {
   "cell_type": "code",
   "execution_count": 1,
   "metadata": {},
   "outputs": [],
   "source": [
    "import pandas as pd\n",
    "from tqdm import tqdm\n",
    "import numpy as np\n",
    "from sklearn.preprocessing import LabelEncoder\n",
    "from tensorflow.keras.preprocessing.sequence import pad_sequences\n",
    "import xgboost as xgb\n",
    "from sklearn.model_selection import train_test_split\n",
    "from sklearn.datasets import make_classification\n",
    "from sklearn.preprocessing import LabelEncoder\n",
    "from sklearn.metrics import f1_score\n",
    "import re\n"
   ]
  },
  {
   "cell_type": "code",
   "execution_count": 6,
   "metadata": {},
   "outputs": [
    {
     "data": {
      "text/plain": [
       "{0: 'A',\n",
       " 1: 'C',\n",
       " 2: 'D',\n",
       " 3: 'E',\n",
       " 4: 'F',\n",
       " 5: 'G',\n",
       " 6: 'H',\n",
       " 7: 'I',\n",
       " 8: 'K',\n",
       " 9: 'L',\n",
       " 10: 'M',\n",
       " 11: 'N',\n",
       " 12: 'P',\n",
       " 13: 'Q',\n",
       " 14: 'R',\n",
       " 15: 'S',\n",
       " 16: 'T',\n",
       " 17: 'U',\n",
       " 18: 'V',\n",
       " 19: 'W',\n",
       " 20: 'X',\n",
       " 21: 'Y',\n",
       " 22: '<OTHER>',\n",
       " 23: '<START>',\n",
       " 24: '<END>',\n",
       " 25: '<PAD>'}"
      ]
     },
     "execution_count": 6,
     "metadata": {},
     "output_type": "execute_result"
    }
   ],
   "source": [
    "index_to_token"
   ]
  },
  {
   "cell_type": "code",
   "execution_count": 5,
   "metadata": {},
   "outputs": [
    {
     "name": "stdout",
     "output_type": "stream",
     "text": [
      "Input: WT\n",
      "Tokenized: [23, 22, 24]\n",
      "\n",
      "Input: P11_K12insP\n",
      "Tokenized: [23, 12, 8, 22, 12, 24]\n",
      "\n",
      "Input: K551del\n",
      "Tokenized: [23, 8, 22, 24]\n",
      "\n",
      "Input: R367_A368delinsP\n",
      "Tokenized: [23, 14, 0, 22, 22, 12, 24]\n",
      "\n",
      "Input: R330_K370del\n",
      "Tokenized: [23, 14, 8, 22, 24]\n",
      "\n",
      "Input: R335*\n",
      "Tokenized: [23, 14, 22, 24]\n",
      "\n",
      "Input: R335fs\n",
      "Tokenized: [23, 14, 22, 24]\n",
      "\n",
      "Input: R551R\n",
      "Tokenized: [23, 14, 14, 24]\n",
      "\n",
      "Input: R551K\n",
      "Tokenized: [23, 14, 8, 24]\n",
      "\n",
      "Input: 447_448RL>RL\n",
      "Tokenized: [23, 14, 9, 22, 14, 9, 24]\n",
      "\n",
      "Input: 447_448RL>KP\n",
      "Tokenized: [23, 14, 9, 22, 8, 12, 24]\n",
      "\n",
      "Input: 447_448RL>*P\n",
      "Tokenized: [23, 14, 9, 22, 22, 12, 24]\n",
      "\n",
      "Input: 447_448RL>P*\n",
      "Tokenized: [23, 14, 9, 22, 12, 22, 24]\n",
      "\n",
      "Input: WT\n",
      "Tokenized: [23, 22, 24]\n",
      "\n"
     ]
    }
   ],
   "source": [
    "import re\n",
    "\n",
    "# 아미노산 및 추가적인 토큰 정의\n",
    "ALL_AAS = 'ACDEFGHIKLMNPQRSTUVWXY'\n",
    "ADDITIONAL_TOKENS = ['<OTHER>', '<START>', '<END>', '<PAD>']\n",
    "\n",
    "# 토큰 인덱스 생성\n",
    "n_aas = len(ALL_AAS)\n",
    "aa_to_token_index = {aa: i for i, aa in enumerate(ALL_AAS)}\n",
    "additional_token_to_index = {token: i + n_aas for i, token in enumerate(ADDITIONAL_TOKENS)}\n",
    "token_to_index = {**aa_to_token_index, **additional_token_to_index}\n",
    "index_to_token = {index: token for token, index in token_to_index.items()}\n",
    "n_tokens = len(token_to_index)\n",
    "\n",
    "def tokenize_seq(seq):\n",
    "    # OTHER 토큰 인덱스 가져오기\n",
    "    other_token_index = additional_token_to_index['<OTHER>']\n",
    "    \n",
    "    # 정규 표현식 사용하여 특수 변이형과 아미노산 분리\n",
    "    pattern = r'([A-Z]+)|(\\d+)|ins|del|fs|\\*|>|_'  # 숫자와 변이형 패턴 포함\n",
    "    \n",
    "    tokens = []\n",
    "    matches = re.finditer(pattern, seq)\n",
    "    \n",
    "    for match in matches:\n",
    "        text = match.group()\n",
    "        \n",
    "        # 아미노산 문자일 경우 - 한 글자씩 인식\n",
    "        if re.match(r'^[A-Z]+$', text) and text not in [\"WT\", \"ins\", \"del\", \"fs\", \"*\", \">\"]:\n",
    "            for amino_acid in text:\n",
    "                tokens.append(aa_to_token_index.get(amino_acid, other_token_index))\n",
    "        \n",
    "        # 특수 변이형과 특정 변이형 (WT 등)은 OTHER로 처리\n",
    "        elif text in [\"WT\", \"ins\", \"del\", \"fs\", \"*\", \">\"]:\n",
    "            tokens.append(other_token_index)\n",
    "    \n",
    "    # '<START>'와 '<END>'로 감싸서 반환\n",
    "    return [additional_token_to_index['<START>']] + tokens + [additional_token_to_index['<END>']]\n",
    "\n",
    "# 예제 테스트\n",
    "examples = [\"WT\", \"P11_K12insP\", \"K551del\", \"R367_A368delinsP\", \"R330_K370del\",\n",
    "            \"R335*\", \"R335fs\", \"R551R\", \"R551K\", \"447_448RL>RL\", \n",
    "            \"447_448RL>KP\", \"447_448RL>*P\", \"447_448RL>P*\", \"WT\"]\n",
    "\n",
    "# 각 예제에 대해 결과 출력\n",
    "for example in examples:\n",
    "    print(f\"Input: {example}\")\n",
    "    print(f\"Tokenized: {tokenize_seq(example)}\\n\")\n"
   ]
  },
  {
   "cell_type": "code",
   "execution_count": null,
   "metadata": {},
   "outputs": [],
   "source": []
  },
  {
   "cell_type": "code",
   "execution_count": null,
   "metadata": {},
   "outputs": [],
   "source": []
  },
  {
   "cell_type": "code",
   "execution_count": null,
   "metadata": {},
   "outputs": [],
   "source": []
  },
  {
   "cell_type": "code",
   "execution_count": null,
   "metadata": {},
   "outputs": [],
   "source": []
  },
  {
   "cell_type": "code",
   "execution_count": null,
   "metadata": {},
   "outputs": [],
   "source": []
  },
  {
   "cell_type": "code",
   "execution_count": null,
   "metadata": {},
   "outputs": [],
   "source": []
  },
  {
   "cell_type": "code",
   "execution_count": null,
   "metadata": {},
   "outputs": [],
   "source": []
  }
 ],
 "metadata": {
  "kernelspec": {
   "display_name": "Python 3",
   "language": "python",
   "name": "python3"
  },
  "language_info": {
   "codemirror_mode": {
    "name": "ipython",
    "version": 3
   },
   "file_extension": ".py",
   "mimetype": "text/x-python",
   "name": "python",
   "nbconvert_exporter": "python",
   "pygments_lexer": "ipython3",
   "version": "3.11.6"
  }
 },
 "nbformat": 4,
 "nbformat_minor": 2
}
